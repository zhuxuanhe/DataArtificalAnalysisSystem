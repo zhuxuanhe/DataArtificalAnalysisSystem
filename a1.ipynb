{
 "metadata": {
  "language_info": {
   "codemirror_mode": {
    "name": "ipython",
    "version": 3
   },
   "file_extension": ".py",
   "mimetype": "text/x-python",
   "name": "python",
   "nbconvert_exporter": "python",
   "pygments_lexer": "ipython3",
   "version": "3.7.1"
  },
  "orig_nbformat": 2,
  "kernelspec": {
   "name": "python3",
   "display_name": "Python 3.7.1 64-bit",
   "metadata": {
    "interpreter": {
     "hash": "0600588c3b5f4418cbe7b5ebc6825b479f3bc010269d8b60d75058cdd010adfe"
    }
   }
  }
 },
 "nbformat": 4,
 "nbformat_minor": 2,
 "cells": [
  {
   "cell_type": "code",
   "execution_count": 1,
   "metadata": {},
   "outputs": [],
   "source": [
    "#导入pandas库\n",
    "import pandas as pd"
   ]
  },
  {
   "cell_type": "code",
   "execution_count": 2,
   "metadata": {},
   "outputs": [],
   "source": [
    "#更改默认的matplotlib中font属性，添加宋体\n",
    "import matplotlib\n",
    "\n",
    "font = { 'family' : 'SimSun',\n",
    "        'weight' : 'bold',\n",
    "         'size'   : '20'}\n",
    "matplotlib.rc('font',**font)"
   ]
  },
  {
   "cell_type": "code",
   "execution_count": 3,
   "metadata": {},
   "outputs": [
    {
     "output_type": "execute_result",
     "data": {
      "text/plain": [
       "0     国际\n",
       "1    港澳台\n",
       "dtype: object"
      ]
     },
     "metadata": {},
     "execution_count": 3
    }
   ],
   "source": [
    "# Series 对象=索引+内容\n",
    "market_id = pd.Series(['国际','港澳台'])\n",
    "market_id"
   ]
  },
  {
   "cell_type": "code",
   "execution_count": 4,
   "metadata": {},
   "outputs": [
    {
     "output_type": "execute_result",
     "data": {
      "text/plain": [
       "0.05285525321960449"
      ]
     },
     "metadata": {},
     "execution_count": 4
    }
   ],
   "source": [
    "# Series 比列表更快\n",
    "import time\n",
    "size_of_vector = 100001\n",
    "x = range(size_of_vector)\n",
    "y = range(size_of_vector)\n",
    "t1 = time.time()\n",
    "z = []\n",
    "for i in range(len(x)):\n",
    "    z.append(x[i]+y[i])\n",
    "time.time()-t1"
   ]
  },
  {
   "cell_type": "code",
   "execution_count": 5,
   "metadata": {},
   "outputs": [
    {
     "output_type": "execute_result",
     "data": {
      "text/plain": [
       "0.010970830917358398"
      ]
     },
     "metadata": {},
     "execution_count": 5
    }
   ],
   "source": [
    "t2 = time.time()\n",
    "z = pd.Series(x)-pd.Series(y)\n",
    "time.time()-t2"
   ]
  },
  {
   "cell_type": "code",
   "execution_count": 6,
   "metadata": {},
   "outputs": [
    {
     "output_type": "execute_result",
     "data": {
      "text/plain": [
       "   year_id  month_id      旅客量   客座率\n",
       "0     2016         5  1136974  0.75\n",
       "1     2015        10  3549791  0.72\n",
       "2     2016         4  3986714  0.79\n",
       "3     2017         5  3879634  0.73"
      ],
      "text/html": "<div>\n<style scoped>\n    .dataframe tbody tr th:only-of-type {\n        vertical-align: middle;\n    }\n\n    .dataframe tbody tr th {\n        vertical-align: top;\n    }\n\n    .dataframe thead th {\n        text-align: right;\n    }\n</style>\n<table border=\"1\" class=\"dataframe\">\n  <thead>\n    <tr style=\"text-align: right;\">\n      <th></th>\n      <th>year_id</th>\n      <th>month_id</th>\n      <th>旅客量</th>\n      <th>客座率</th>\n    </tr>\n  </thead>\n  <tbody>\n    <tr>\n      <th>0</th>\n      <td>2016</td>\n      <td>5</td>\n      <td>1136974</td>\n      <td>0.75</td>\n    </tr>\n    <tr>\n      <th>1</th>\n      <td>2015</td>\n      <td>10</td>\n      <td>3549791</td>\n      <td>0.72</td>\n    </tr>\n    <tr>\n      <th>2</th>\n      <td>2016</td>\n      <td>4</td>\n      <td>3986714</td>\n      <td>0.79</td>\n    </tr>\n    <tr>\n      <th>3</th>\n      <td>2017</td>\n      <td>5</td>\n      <td>3879634</td>\n      <td>0.73</td>\n    </tr>\n  </tbody>\n</table>\n</div>"
     },
     "metadata": {},
     "execution_count": 6
    }
   ],
   "source": [
    "# DataFrame对象是一种表格型的数据结构\n",
    "# 市场数据前4行数据测试\n",
    "new_df = pd.DataFrame({\n",
    "    'year_id':[2016,2015,2016,2017],\n",
    "    'month_id':[5,10,4,5],\n",
    "    '旅客量':[1136974,3549791,3986714,3879634],\n",
    "    '客座率':[0.75,0.72,0.79,0.73]\n",
    "})\n",
    "new_df"
   ]
  },
  {
   "cell_type": "code",
   "execution_count": 7,
   "metadata": {},
   "outputs": [
    {
     "output_type": "execute_result",
     "data": {
      "text/plain": [
       "0    0.75\n",
       "1    0.72\n",
       "2    0.79\n",
       "3    0.73\n",
       "Name: 客座率, dtype: float64"
      ]
     },
     "metadata": {},
     "execution_count": 7
    }
   ],
   "source": [
    "new_df['客座率']"
   ]
  },
  {
   "cell_type": "code",
   "execution_count": 8,
   "metadata": {},
   "outputs": [
    {
     "output_type": "execute_result",
     "data": {
      "text/plain": [
       "pandas.core.series.Series"
      ]
     },
     "metadata": {},
     "execution_count": 8
    }
   ],
   "source": [
    "type(new_df['month_id'])"
   ]
  },
  {
   "cell_type": "code",
   "execution_count": 9,
   "metadata": {},
   "outputs": [],
   "source": [
    "#读取景气指数_加盐.csv\n",
    "my_data = pd.read_csv('样例\\景气指数_加盐.csv',encoding='utf-8')"
   ]
  },
  {
   "cell_type": "code",
   "execution_count": 10,
   "metadata": {},
   "outputs": [
    {
     "output_type": "execute_result",
     "data": {
      "text/plain": [
       "     Unnamed: 0   起飞年  起飞星期      景气指数\n",
       "0             0  2015     1  89.57518\n",
       "1             1  2015    10  92.69366\n",
       "2             2  2015    11  92.43514\n",
       "3             3  2015    12  92.51584\n",
       "4             4  2015    13  92.45800\n",
       "..          ...   ...   ...       ...\n",
       "207         207  2018    53  85.67820\n",
       "208         208  2018     6  94.36436\n",
       "209         209  2018     7  94.22866\n",
       "210         210  2018     8  94.80134\n",
       "211         211  2018     9  94.37548\n",
       "\n",
       "[212 rows x 4 columns]"
      ],
      "text/html": "<div>\n<style scoped>\n    .dataframe tbody tr th:only-of-type {\n        vertical-align: middle;\n    }\n\n    .dataframe tbody tr th {\n        vertical-align: top;\n    }\n\n    .dataframe thead th {\n        text-align: right;\n    }\n</style>\n<table border=\"1\" class=\"dataframe\">\n  <thead>\n    <tr style=\"text-align: right;\">\n      <th></th>\n      <th>Unnamed: 0</th>\n      <th>起飞年</th>\n      <th>起飞星期</th>\n      <th>景气指数</th>\n    </tr>\n  </thead>\n  <tbody>\n    <tr>\n      <th>0</th>\n      <td>0</td>\n      <td>2015</td>\n      <td>1</td>\n      <td>89.57518</td>\n    </tr>\n    <tr>\n      <th>1</th>\n      <td>1</td>\n      <td>2015</td>\n      <td>10</td>\n      <td>92.69366</td>\n    </tr>\n    <tr>\n      <th>2</th>\n      <td>2</td>\n      <td>2015</td>\n      <td>11</td>\n      <td>92.43514</td>\n    </tr>\n    <tr>\n      <th>3</th>\n      <td>3</td>\n      <td>2015</td>\n      <td>12</td>\n      <td>92.51584</td>\n    </tr>\n    <tr>\n      <th>4</th>\n      <td>4</td>\n      <td>2015</td>\n      <td>13</td>\n      <td>92.45800</td>\n    </tr>\n    <tr>\n      <th>...</th>\n      <td>...</td>\n      <td>...</td>\n      <td>...</td>\n      <td>...</td>\n    </tr>\n    <tr>\n      <th>207</th>\n      <td>207</td>\n      <td>2018</td>\n      <td>53</td>\n      <td>85.67820</td>\n    </tr>\n    <tr>\n      <th>208</th>\n      <td>208</td>\n      <td>2018</td>\n      <td>6</td>\n      <td>94.36436</td>\n    </tr>\n    <tr>\n      <th>209</th>\n      <td>209</td>\n      <td>2018</td>\n      <td>7</td>\n      <td>94.22866</td>\n    </tr>\n    <tr>\n      <th>210</th>\n      <td>210</td>\n      <td>2018</td>\n      <td>8</td>\n      <td>94.80134</td>\n    </tr>\n    <tr>\n      <th>211</th>\n      <td>211</td>\n      <td>2018</td>\n      <td>9</td>\n      <td>94.37548</td>\n    </tr>\n  </tbody>\n</table>\n<p>212 rows × 4 columns</p>\n</div>"
     },
     "metadata": {},
     "execution_count": 10
    }
   ],
   "source": [
    "my_data"
   ]
  },
  {
   "cell_type": "code",
   "execution_count": 11,
   "metadata": {},
   "outputs": [
    {
     "output_type": "execute_result",
     "data": {
      "text/plain": [
       "   Unnamed: 0   起飞年  起飞星期      景气指数\n",
       "0           0  2015     1  89.57518\n",
       "1           1  2015    10  92.69366\n",
       "2           2  2015    11  92.43514\n",
       "3           3  2015    12  92.51584\n",
       "4           4  2015    13  92.45800\n",
       "5           5  2015    14  92.38110\n",
       "6           6  2015    15  92.59394\n",
       "7           7  2015    16  92.57700\n",
       "8           8  2015    17  92.68048\n",
       "9           9  2015    18  92.63658"
      ],
      "text/html": "<div>\n<style scoped>\n    .dataframe tbody tr th:only-of-type {\n        vertical-align: middle;\n    }\n\n    .dataframe tbody tr th {\n        vertical-align: top;\n    }\n\n    .dataframe thead th {\n        text-align: right;\n    }\n</style>\n<table border=\"1\" class=\"dataframe\">\n  <thead>\n    <tr style=\"text-align: right;\">\n      <th></th>\n      <th>Unnamed: 0</th>\n      <th>起飞年</th>\n      <th>起飞星期</th>\n      <th>景气指数</th>\n    </tr>\n  </thead>\n  <tbody>\n    <tr>\n      <th>0</th>\n      <td>0</td>\n      <td>2015</td>\n      <td>1</td>\n      <td>89.57518</td>\n    </tr>\n    <tr>\n      <th>1</th>\n      <td>1</td>\n      <td>2015</td>\n      <td>10</td>\n      <td>92.69366</td>\n    </tr>\n    <tr>\n      <th>2</th>\n      <td>2</td>\n      <td>2015</td>\n      <td>11</td>\n      <td>92.43514</td>\n    </tr>\n    <tr>\n      <th>3</th>\n      <td>3</td>\n      <td>2015</td>\n      <td>12</td>\n      <td>92.51584</td>\n    </tr>\n    <tr>\n      <th>4</th>\n      <td>4</td>\n      <td>2015</td>\n      <td>13</td>\n      <td>92.45800</td>\n    </tr>\n    <tr>\n      <th>5</th>\n      <td>5</td>\n      <td>2015</td>\n      <td>14</td>\n      <td>92.38110</td>\n    </tr>\n    <tr>\n      <th>6</th>\n      <td>6</td>\n      <td>2015</td>\n      <td>15</td>\n      <td>92.59394</td>\n    </tr>\n    <tr>\n      <th>7</th>\n      <td>7</td>\n      <td>2015</td>\n      <td>16</td>\n      <td>92.57700</td>\n    </tr>\n    <tr>\n      <th>8</th>\n      <td>8</td>\n      <td>2015</td>\n      <td>17</td>\n      <td>92.68048</td>\n    </tr>\n    <tr>\n      <th>9</th>\n      <td>9</td>\n      <td>2015</td>\n      <td>18</td>\n      <td>92.63658</td>\n    </tr>\n  </tbody>\n</table>\n</div>"
     },
     "metadata": {},
     "execution_count": 11
    }
   ],
   "source": [
    "#my_data.head(n) 不带n默认为4\n",
    "my_data.head(10)"
   ]
  },
  {
   "cell_type": "code",
   "execution_count": 12,
   "metadata": {},
   "outputs": [
    {
     "output_type": "execute_result",
     "data": {
      "text/plain": [
       "     Unnamed: 0   起飞年  起飞星期      景气指数\n",
       "207         207  2018    53  85.67820\n",
       "208         208  2018     6  94.36436\n",
       "209         209  2018     7  94.22866\n",
       "210         210  2018     8  94.80134\n",
       "211         211  2018     9  94.37548"
      ],
      "text/html": "<div>\n<style scoped>\n    .dataframe tbody tr th:only-of-type {\n        vertical-align: middle;\n    }\n\n    .dataframe tbody tr th {\n        vertical-align: top;\n    }\n\n    .dataframe thead th {\n        text-align: right;\n    }\n</style>\n<table border=\"1\" class=\"dataframe\">\n  <thead>\n    <tr style=\"text-align: right;\">\n      <th></th>\n      <th>Unnamed: 0</th>\n      <th>起飞年</th>\n      <th>起飞星期</th>\n      <th>景气指数</th>\n    </tr>\n  </thead>\n  <tbody>\n    <tr>\n      <th>207</th>\n      <td>207</td>\n      <td>2018</td>\n      <td>53</td>\n      <td>85.67820</td>\n    </tr>\n    <tr>\n      <th>208</th>\n      <td>208</td>\n      <td>2018</td>\n      <td>6</td>\n      <td>94.36436</td>\n    </tr>\n    <tr>\n      <th>209</th>\n      <td>209</td>\n      <td>2018</td>\n      <td>7</td>\n      <td>94.22866</td>\n    </tr>\n    <tr>\n      <th>210</th>\n      <td>210</td>\n      <td>2018</td>\n      <td>8</td>\n      <td>94.80134</td>\n    </tr>\n    <tr>\n      <th>211</th>\n      <td>211</td>\n      <td>2018</td>\n      <td>9</td>\n      <td>94.37548</td>\n    </tr>\n  </tbody>\n</table>\n</div>"
     },
     "metadata": {},
     "execution_count": 12
    }
   ],
   "source": [
    "#my_data.tail(n) 不带n默认为4\n",
    "my_data.tail()"
   ]
  },
  {
   "cell_type": "code",
   "execution_count": 13,
   "metadata": {},
   "outputs": [
    {
     "output_type": "stream",
     "name": "stdout",
     "text": [
      "<class 'pandas.core.frame.DataFrame'>\nRangeIndex: 212 entries, 0 to 211\nData columns (total 4 columns):\n #   Column      Non-Null Count  Dtype  \n---  ------      --------------  -----  \n 0   Unnamed: 0  212 non-null    int64  \n 1   起飞年         212 non-null    int64  \n 2   起飞星期        212 non-null    int64  \n 3   景气指数        212 non-null    float64\ndtypes: float64(1), int64(3)\nmemory usage: 6.8 KB\n"
     ]
    }
   ],
   "source": [
    "#df.info()查看基本信息\n",
    "my_data.info()"
   ]
  },
  {
   "cell_type": "code",
   "execution_count": 14,
   "metadata": {},
   "outputs": [
    {
     "output_type": "execute_result",
     "data": {
      "text/plain": [
       "0      2015\n",
       "1      2015\n",
       "2      2015\n",
       "3      2015\n",
       "4      2015\n",
       "       ... \n",
       "207    2018\n",
       "208    2018\n",
       "209    2018\n",
       "210    2018\n",
       "211    2018\n",
       "Name: 起飞年, Length: 212, dtype: int64"
      ]
     },
     "metadata": {},
     "execution_count": 14
    }
   ],
   "source": [
    "my_data['起飞年']"
   ]
  },
  {
   "cell_type": "code",
   "execution_count": 15,
   "metadata": {},
   "outputs": [
    {
     "output_type": "execute_result",
     "data": {
      "text/plain": [
       "2018    53\n",
       "2017    53\n",
       "2016    53\n",
       "2015    53\n",
       "Name: 起飞年, dtype: int64"
      ]
     },
     "metadata": {},
     "execution_count": 15
    }
   ],
   "source": [
    "my_data['起飞年'].value_counts()"
   ]
  },
  {
   "cell_type": "code",
   "execution_count": 16,
   "metadata": {},
   "outputs": [
    {
     "output_type": "execute_result",
     "data": {
      "text/plain": [
       "0    89.57518\n",
       "1    92.69366\n",
       "2    92.43514\n",
       "3    92.51584\n",
       "4    92.45800\n",
       "5    92.38110\n",
       "6    92.59394\n",
       "7    92.57700\n",
       "8    92.68048\n",
       "9    92.63658\n",
       "Name: 景气指数, dtype: float64"
      ]
     },
     "metadata": {},
     "execution_count": 16
    }
   ],
   "source": [
    "my_data['景气指数'].head(10)"
   ]
  },
  {
   "cell_type": "code",
   "execution_count": 17,
   "metadata": {},
   "outputs": [
    {
     "output_type": "execute_result",
     "data": {
      "text/plain": [
       "84.77130000000002"
      ]
     },
     "metadata": {},
     "execution_count": 17
    }
   ],
   "source": [
    "my_data['景气指数'].min()"
   ]
  },
  {
   "cell_type": "code",
   "execution_count": 18,
   "metadata": {},
   "outputs": [
    {
     "output_type": "execute_result",
     "data": {
      "text/plain": [
       "94.80134"
      ]
     },
     "metadata": {},
     "execution_count": 18
    }
   ],
   "source": [
    "my_data['景气指数'].max()"
   ]
  },
  {
   "cell_type": "code",
   "execution_count": 19,
   "metadata": {},
   "outputs": [
    {
     "output_type": "execute_result",
     "data": {
      "text/plain": [
       "93.29154698113207"
      ]
     },
     "metadata": {},
     "execution_count": 19
    }
   ],
   "source": [
    "#平均数\n",
    "my_data['景气指数'].mean()"
   ]
  },
  {
   "cell_type": "code",
   "execution_count": 20,
   "metadata": {},
   "outputs": [
    {
     "output_type": "execute_result",
     "data": {
      "text/plain": [
       "93.44866"
      ]
     },
     "metadata": {},
     "execution_count": 20
    }
   ],
   "source": [
    "#中位数\n",
    "my_data['景气指数'].median()"
   ]
  },
  {
   "cell_type": "code",
   "execution_count": 21,
   "metadata": {},
   "outputs": [
    {
     "output_type": "execute_result",
     "data": {
      "text/plain": [
       "2018    0.25\n",
       "2017    0.25\n",
       "2016    0.25\n",
       "2015    0.25\n",
       "Name: 起飞年, dtype: float64"
      ]
     },
     "metadata": {},
     "execution_count": 21
    }
   ],
   "source": [
    "#频率分布\n",
    "\n",
    "my_data['起飞年'].value_counts()/my_data['起飞年'].value_counts().sum()"
   ]
  },
  {
   "cell_type": "code",
   "execution_count": 22,
   "metadata": {},
   "outputs": [
    {
     "output_type": "execute_result",
     "data": {
      "text/plain": [
       "2018    0.25\n",
       "2017    0.25\n",
       "2016    0.25\n",
       "2015    0.25\n",
       "Name: 起飞年, dtype: float64"
      ]
     },
     "metadata": {},
     "execution_count": 22
    }
   ],
   "source": [
    "#饼图 条形图  直方图\n",
    "profession = my_data['起飞年'].value_counts()/my_data['起飞年'].value_counts().sum()\n",
    "profession"
   ]
  },
  {
   "cell_type": "code",
   "execution_count": 23,
   "metadata": {},
   "outputs": [
    {
     "output_type": "execute_result",
     "data": {
      "text/plain": [
       "<AxesSubplot:title={'center':'起飞频度'}>"
      ]
     },
     "metadata": {},
     "execution_count": 23
    },
    {
     "output_type": "display_data",
     "data": {
      "text/plain": "<Figure size 504x504 with 1 Axes>",
      "image/svg+xml": "<?xml version=\"1.0\" encoding=\"utf-8\" standalone=\"no\"?>\r\n<!DOCTYPE svg PUBLIC \"-//W3C//DTD SVG 1.1//EN\"\r\n  \"http://www.w3.org/Graphics/SVG/1.1/DTD/svg11.dtd\">\r\n<svg height=\"410.435625pt\" version=\"1.1\" viewBox=\"0 0 394.92 410.435625\" width=\"394.92pt\" xmlns=\"http://www.w3.org/2000/svg\" xmlns:xlink=\"http://www.w3.org/1999/xlink\">\r\n <metadata>\r\n  <rdf:RDF xmlns:cc=\"http://creativecommons.org/ns#\" xmlns:dc=\"http://purl.org/dc/elements/1.1/\" xmlns:rdf=\"http://www.w3.org/1999/02/22-rdf-syntax-ns#\">\r\n   <cc:Work>\r\n    <dc:type rdf:resource=\"http://purl.org/dc/dcmitype/StillImage\"/>\r\n    <dc:date>2021-04-28T17:12:59.549910</dc:date>\r\n    <dc:format>image/svg+xml</dc:format>\r\n    <dc:creator>\r\n     <cc:Agent>\r\n      <dc:title>Matplotlib v3.4.1, https://matplotlib.org/</dc:title>\r\n     </cc:Agent>\r\n    </dc:creator>\r\n   </cc:Work>\r\n  </rdf:RDF>\r\n </metadata>\r\n <defs>\r\n  <style type=\"text/css\">*{stroke-linecap:butt;stroke-linejoin:round;}</style>\r\n </defs>\r\n <g id=\"figure_1\">\r\n  <g id=\"patch_1\">\r\n   <path d=\"M 0 410.435625 \r\nL 394.92 410.435625 \r\nL 394.92 0 \r\nL 0 0 \r\nz\r\n\" style=\"fill:none;\"/>\r\n  </g>\r\n  <g id=\"axes_1\">\r\n   <g id=\"patch_2\">\r\n    <path d=\"M 349.668 212.975625 \r\nC 349.668 172.623036 333.620899 133.881906 305.087309 105.348316 \r\nC 276.553719 76.814726 237.812589 60.767625 197.46 60.767625 \r\nL 197.46 212.975625 \r\nL 349.668 212.975625 \r\nz\r\n\" style=\"fill:#1f77b4;\"/>\r\n   </g>\r\n   <g id=\"patch_3\">\r\n    <path d=\"M 197.46 60.767625 \r\nC 157.107411 60.767625 118.366281 76.814726 89.832691 105.348316 \r\nC 61.299101 133.881906 45.252 172.623036 45.252 212.975625 \r\nL 197.46 212.975625 \r\nL 197.46 60.767625 \r\nz\r\n\" style=\"fill:#ff7f0e;\"/>\r\n   </g>\r\n   <g id=\"patch_4\">\r\n    <path d=\"M 45.252 212.975625 \r\nC 45.252 253.328214 61.299101 292.069344 89.832691 320.602934 \r\nC 118.366281 349.136524 157.107411 365.183625 197.46 365.183625 \r\nL 197.46 212.975625 \r\nL 45.252 212.975625 \r\nz\r\n\" style=\"fill:#2ca02c;\"/>\r\n   </g>\r\n   <g id=\"patch_5\">\r\n    <path d=\"M 197.46 365.183625 \r\nC 237.812589 365.183625 276.553719 349.136524 305.087309 320.602934 \r\nC 333.620899 292.069344 349.668 253.328214 349.668 212.975625 \r\nL 197.46 212.975625 \r\nL 197.46 365.183625 \r\nz\r\n\" style=\"fill:#d62728;\"/>\r\n   </g>\r\n   <g id=\"matplotlib.axis_1\"/>\r\n   <g id=\"matplotlib.axis_2\"/>\r\n   <g id=\"text_1\">\r\n    <!-- 2018 -->\r\n    <g transform=\"translate(315.85004 97.515273)scale(0.1 -0.1)\">\r\n     <defs>\r\n      <path d=\"M 2325 3325 \r\nQ 2325 3775 2125 4012 \r\nQ 1925 4250 1525 4250 \r\nQ 1225 4250 1012 4087 \r\nQ 800 3925 800 3675 \r\nQ 800 3525 900 3425 \r\nQ 975 3325 975 3225 \r\nQ 975 3100 912 3037 \r\nQ 850 2975 725 2975 \r\nQ 575 2975 487 3062 \r\nQ 400 3150 400 3350 \r\nQ 400 3875 775 4150 \r\nQ 1150 4425 1575 4425 \r\nQ 2175 4425 2462 4125 \r\nQ 2750 3825 2750 3375 \r\nQ 2750 3075 2612 2775 \r\nQ 2475 2475 2175 2200 \r\nQ 1450 1500 1062 1062 \r\nQ 675 625 600 475 \r\nL 2075 475 \r\nQ 2300 475 2450 650 \r\nQ 2600 825 2650 1175 \r\nL 2800 1175 \r\nL 2650 100 \r\nL 325 100 \r\nL 325 425 \r\nQ 450 650 737 1000 \r\nQ 1025 1350 1500 1825 \r\nQ 1925 2250 2125 2625 \r\nQ 2325 3000 2325 3325 \r\nz\r\n\" id=\"SimSun-32\" transform=\"scale(0.015625)\"/>\r\n      <path d=\"M 1600 4225 \r\nQ 1250 4225 1012 3687 \r\nQ 775 3150 775 2250 \r\nQ 775 1300 1012 775 \r\nQ 1250 250 1600 250 \r\nQ 1975 250 2187 775 \r\nQ 2400 1300 2400 2250 \r\nQ 2400 3150 2200 3687 \r\nQ 2000 4225 1600 4225 \r\nz\r\nM 1600 50 \r\nQ 1050 50 675 625 \r\nQ 300 1200 300 2250 \r\nQ 300 3225 662 3825 \r\nQ 1025 4425 1600 4425 \r\nQ 2150 4425 2512 3850 \r\nQ 2875 3275 2875 2250 \r\nQ 2875 1225 2512 637 \r\nQ 2150 50 1600 50 \r\nz\r\n\" id=\"SimSun-30\" transform=\"scale(0.015625)\"/>\r\n      <path d=\"M 1825 4450 \r\nL 1825 650 \r\nQ 1825 450 1950 350 \r\nQ 2075 250 2300 250 \r\nL 2550 250 \r\nL 2550 100 \r\nL 725 100 \r\nL 725 250 \r\nL 950 250 \r\nQ 1200 250 1312 350 \r\nQ 1425 450 1425 650 \r\nL 1425 3675 \r\nQ 1425 3775 1362 3837 \r\nQ 1300 3900 1175 3900 \r\nL 725 3900 \r\nL 725 4050 \r\nL 950 4050 \r\nQ 1250 4050 1437 4150 \r\nQ 1625 4250 1725 4450 \r\nL 1825 4450 \r\nz\r\n\" id=\"SimSun-31\" transform=\"scale(0.015625)\"/>\r\n      <path d=\"M 625 1125 \r\nQ 625 725 887 475 \r\nQ 1150 225 1550 225 \r\nQ 2025 225 2237 475 \r\nQ 2450 725 2450 1100 \r\nQ 2450 1425 2150 1725 \r\nQ 1850 2025 1250 2275 \r\nQ 950 2075 787 1775 \r\nQ 625 1475 625 1125 \r\nz\r\nM 2825 1175 \r\nQ 2825 700 2475 375 \r\nQ 2125 50 1550 50 \r\nQ 1025 50 650 375 \r\nQ 275 700 275 1125 \r\nQ 275 1550 487 1850 \r\nQ 700 2150 1100 2375 \r\nQ 750 2550 562 2812 \r\nQ 375 3075 375 3400 \r\nQ 375 3825 700 4125 \r\nQ 1025 4425 1600 4425 \r\nQ 2125 4425 2450 4125 \r\nQ 2775 3825 2775 3400 \r\nQ 2775 3100 2587 2837 \r\nQ 2400 2575 2000 2375 \r\nQ 2425 2125 2625 1825 \r\nQ 2825 1525 2825 1175 \r\nz\r\nM 2425 3375 \r\nQ 2425 3725 2225 3987 \r\nQ 2025 4250 1600 4250 \r\nQ 1125 4250 925 4000 \r\nQ 725 3750 725 3475 \r\nQ 725 3200 1012 2937 \r\nQ 1300 2675 1825 2475 \r\nQ 2125 2625 2275 2850 \r\nQ 2425 3075 2425 3375 \r\nz\r\n\" id=\"SimSun-38\" transform=\"scale(0.015625)\"/>\r\n     </defs>\r\n     <use xlink:href=\"#SimSun-32\"/>\r\n     <use x=\"50\" xlink:href=\"#SimSun-30\"/>\r\n     <use x=\"100\" xlink:href=\"#SimSun-31\"/>\r\n     <use x=\"150\" xlink:href=\"#SimSun-38\"/>\r\n    </g>\r\n   </g>\r\n   <g id=\"text_2\">\r\n    <!-- 25.00% -->\r\n    <g transform=\"translate(247.036385 151.328927)scale(0.1 -0.1)\">\r\n     <defs>\r\n      <path d=\"M 1725 2850 \r\nQ 2200 2850 2500 2487 \r\nQ 2800 2125 2800 1525 \r\nQ 2800 850 2487 450 \r\nQ 2175 50 1525 50 \r\nQ 1075 50 725 312 \r\nQ 375 575 375 950 \r\nQ 375 1100 462 1212 \r\nQ 550 1325 700 1325 \r\nQ 850 1325 900 1225 \r\nQ 950 1125 950 1050 \r\nQ 950 900 875 825 \r\nQ 800 725 800 625 \r\nQ 800 425 1037 325 \r\nQ 1275 225 1550 225 \r\nQ 1950 225 2162 550 \r\nQ 2375 875 2375 1475 \r\nQ 2375 1975 2187 2287 \r\nQ 2000 2600 1625 2600 \r\nQ 1350 2600 1150 2500 \r\nQ 950 2400 775 2075 \r\nL 550 2100 \r\nL 675 4375 \r\nL 2725 4375 \r\nL 2650 4000 \r\nL 850 4000 \r\nL 750 2350 \r\nQ 1000 2700 1237 2775 \r\nQ 1475 2850 1725 2850 \r\nz\r\n\" id=\"SimSun-35\" transform=\"scale(0.015625)\"/>\r\n      <path d=\"M 800 25 \r\nQ 650 25 537 125 \r\nQ 425 225 425 400 \r\nQ 425 575 537 675 \r\nQ 650 775 800 775 \r\nQ 950 775 1062 662 \r\nQ 1175 550 1175 400 \r\nQ 1175 225 1062 125 \r\nQ 950 25 800 25 \r\nz\r\n\" id=\"SimSun-2e\" transform=\"scale(0.015625)\"/>\r\n      <path d=\"M 750 4250 \r\nQ 600 4250 500 4050 \r\nQ 400 3850 400 3300 \r\nQ 400 2675 512 2487 \r\nQ 625 2300 750 2300 \r\nQ 925 2300 1012 2525 \r\nQ 1100 2750 1100 3300 \r\nQ 1100 3750 1037 4000 \r\nQ 975 4250 750 4250 \r\nz\r\nM 1425 3275 \r\nQ 1425 2825 1275 2487 \r\nQ 1125 2150 750 2150 \r\nQ 450 2150 262 2450 \r\nQ 75 2750 75 3275 \r\nQ 75 3825 275 4125 \r\nQ 475 4425 750 4425 \r\nQ 1050 4425 1237 4112 \r\nQ 1425 3800 1425 3275 \r\nz\r\nM 2725 1200 \r\nQ 2725 1625 2650 1900 \r\nQ 2575 2175 2375 2175 \r\nQ 2225 2175 2125 1937 \r\nQ 2025 1700 2025 1200 \r\nQ 2025 575 2137 400 \r\nQ 2250 225 2375 225 \r\nQ 2550 225 2637 437 \r\nQ 2725 650 2725 1200 \r\nz\r\nM 3050 1175 \r\nQ 3050 675 2875 362 \r\nQ 2700 50 2375 50 \r\nQ 2100 50 1900 362 \r\nQ 1700 675 1700 1175 \r\nQ 1700 1725 1900 2037 \r\nQ 2100 2350 2375 2350 \r\nQ 2675 2350 2862 2025 \r\nQ 3050 1700 3050 1175 \r\nz\r\nM 2525 4350 \r\nL 725 50 \r\nL 575 125 \r\nL 2350 4425 \r\nL 2525 4350 \r\nz\r\n\" id=\"SimSun-25\" transform=\"scale(0.015625)\"/>\r\n     </defs>\r\n     <use xlink:href=\"#SimSun-32\"/>\r\n     <use x=\"50\" xlink:href=\"#SimSun-35\"/>\r\n     <use x=\"100\" xlink:href=\"#SimSun-2e\"/>\r\n     <use x=\"150\" xlink:href=\"#SimSun-30\"/>\r\n     <use x=\"200\" xlink:href=\"#SimSun-30\"/>\r\n     <use x=\"250\" xlink:href=\"#SimSun-25\"/>\r\n    </g>\r\n   </g>\r\n   <g id=\"text_3\">\r\n    <!-- 2017 -->\r\n    <g transform=\"translate(59.06996 97.515273)scale(0.1 -0.1)\">\r\n     <defs>\r\n      <path d=\"M 2825 4200 \r\nQ 2300 3350 1987 2537 \r\nQ 1675 1725 1675 1125 \r\nQ 1675 1025 1700 850 \r\nQ 1700 650 1700 400 \r\nQ 1700 200 1637 125 \r\nQ 1575 50 1425 50 \r\nQ 1300 50 1212 137 \r\nQ 1125 225 1125 450 \r\nQ 1125 925 1337 1625 \r\nQ 1550 2325 2475 4000 \r\nL 1225 4000 \r\nQ 950 4000 787 3825 \r\nQ 625 3650 550 3300 \r\nL 400 3325 \r\nL 575 4375 \r\nL 2825 4375 \r\nL 2825 4200 \r\nz\r\n\" id=\"SimSun-37\" transform=\"scale(0.015625)\"/>\r\n     </defs>\r\n     <use xlink:href=\"#SimSun-32\"/>\r\n     <use x=\"50\" xlink:href=\"#SimSun-30\"/>\r\n     <use x=\"100\" xlink:href=\"#SimSun-31\"/>\r\n     <use x=\"150\" xlink:href=\"#SimSun-37\"/>\r\n    </g>\r\n   </g>\r\n   <g id=\"text_4\">\r\n    <!-- 25.00% -->\r\n    <g transform=\"translate(117.883615 151.328927)scale(0.1 -0.1)\">\r\n     <use xlink:href=\"#SimSun-32\"/>\r\n     <use x=\"50\" xlink:href=\"#SimSun-35\"/>\r\n     <use x=\"100\" xlink:href=\"#SimSun-2e\"/>\r\n     <use x=\"150\" xlink:href=\"#SimSun-30\"/>\r\n     <use x=\"200\" xlink:href=\"#SimSun-30\"/>\r\n     <use x=\"250\" xlink:href=\"#SimSun-25\"/>\r\n    </g>\r\n   </g>\r\n   <g id=\"text_5\">\r\n    <!-- 2016 -->\r\n    <g transform=\"translate(59.06996 334.295352)scale(0.1 -0.1)\">\r\n     <defs>\r\n      <path d=\"M 775 1800 \r\nQ 775 1050 1037 637 \r\nQ 1300 225 1675 225 \r\nQ 2050 225 2250 500 \r\nQ 2450 775 2450 1525 \r\nQ 2450 2025 2237 2300 \r\nQ 2025 2575 1725 2575 \r\nQ 1450 2575 1212 2412 \r\nQ 975 2250 775 1800 \r\nz\r\nM 1750 2825 \r\nQ 2350 2825 2612 2425 \r\nQ 2875 2025 2875 1525 \r\nQ 2875 775 2512 412 \r\nQ 2150 50 1675 50 \r\nQ 1000 50 650 562 \r\nQ 300 1075 300 2050 \r\nQ 300 3200 725 3812 \r\nQ 1150 4425 1875 4425 \r\nQ 2225 4425 2437 4225 \r\nQ 2650 4025 2650 3875 \r\nQ 2650 3725 2587 3650 \r\nQ 2525 3575 2375 3575 \r\nQ 2250 3575 2187 3637 \r\nQ 2125 3700 2125 3825 \r\nQ 2125 3875 2150 3925 \r\nQ 2150 3975 2150 4025 \r\nQ 2150 4125 2075 4187 \r\nQ 2000 4250 1800 4250 \r\nQ 1375 4250 1075 3862 \r\nQ 775 3475 775 2175 \r\nQ 925 2500 1187 2662 \r\nQ 1450 2825 1750 2825 \r\nz\r\n\" id=\"SimSun-36\" transform=\"scale(0.015625)\"/>\r\n     </defs>\r\n     <use xlink:href=\"#SimSun-32\"/>\r\n     <use x=\"50\" xlink:href=\"#SimSun-30\"/>\r\n     <use x=\"100\" xlink:href=\"#SimSun-31\"/>\r\n     <use x=\"150\" xlink:href=\"#SimSun-36\"/>\r\n    </g>\r\n   </g>\r\n   <g id=\"text_6\">\r\n    <!-- 25.00% -->\r\n    <g transform=\"translate(117.883615 280.481698)scale(0.1 -0.1)\">\r\n     <use xlink:href=\"#SimSun-32\"/>\r\n     <use x=\"50\" xlink:href=\"#SimSun-35\"/>\r\n     <use x=\"100\" xlink:href=\"#SimSun-2e\"/>\r\n     <use x=\"150\" xlink:href=\"#SimSun-30\"/>\r\n     <use x=\"200\" xlink:href=\"#SimSun-30\"/>\r\n     <use x=\"250\" xlink:href=\"#SimSun-25\"/>\r\n    </g>\r\n   </g>\r\n   <g id=\"text_7\">\r\n    <!-- 2015 -->\r\n    <g transform=\"translate(315.85004 334.295352)scale(0.1 -0.1)\">\r\n     <use xlink:href=\"#SimSun-32\"/>\r\n     <use x=\"50\" xlink:href=\"#SimSun-30\"/>\r\n     <use x=\"100\" xlink:href=\"#SimSun-31\"/>\r\n     <use x=\"150\" xlink:href=\"#SimSun-35\"/>\r\n    </g>\r\n   </g>\r\n   <g id=\"text_8\">\r\n    <!-- 25.00% -->\r\n    <g transform=\"translate(247.036385 280.481698)scale(0.1 -0.1)\">\r\n     <use xlink:href=\"#SimSun-32\"/>\r\n     <use x=\"50\" xlink:href=\"#SimSun-35\"/>\r\n     <use x=\"100\" xlink:href=\"#SimSun-2e\"/>\r\n     <use x=\"150\" xlink:href=\"#SimSun-30\"/>\r\n     <use x=\"200\" xlink:href=\"#SimSun-30\"/>\r\n     <use x=\"250\" xlink:href=\"#SimSun-25\"/>\r\n    </g>\r\n   </g>\r\n   <g id=\"text_9\">\r\n    <!-- 起飞频度 -->\r\n    <g transform=\"translate(173.46 16.715625)scale(0.12 -0.12)\">\r\n     <defs>\r\n      <path d=\"M 3650 1125 \r\nL 3650 2650 \r\nL 3625 3150 \r\nL 3975 2950 \r\nL 5225 2950 \r\nL 5225 4200 \r\nL 4325 4200 \r\nQ 4000 4200 3725 4125 \r\nL 3500 4350 \r\nL 5175 4350 \r\nL 5325 4600 \r\nL 5725 4350 \r\nL 5550 4175 \r\nQ 5550 2975 5575 2625 \r\nL 5225 2475 \r\nL 5225 2800 \r\nL 3975 2800 \r\nL 3975 1250 \r\nQ 3925 800 4300 825 \r\nL 5350 825 \r\nQ 5600 850 5625 1300 \r\nQ 5650 1750 5650 2000 \r\nL 5775 2000 \r\nQ 5775 1550 5825 1262 \r\nQ 5875 975 6100 900 \r\nQ 5900 525 5425 550 \r\nL 4200 550 \r\nQ 3625 525 3650 1125 \r\nz\r\nM 1900 4125 \r\nQ 1900 4825 1875 5250 \r\nL 2425 5000 \r\nL 2225 4800 \r\nL 2225 4125 \r\nL 2625 4125 \r\nL 2950 4425 \r\nL 3325 3975 \r\nL 2225 3975 \r\nL 2225 2950 \r\nL 2800 2950 \r\nL 3100 3250 \r\nL 3525 2800 \r\nL 2125 2800 \r\nL 2475 2600 \r\nL 2275 2425 \r\nL 2275 1600 \r\nL 2700 1600 \r\nL 3025 1900 \r\nL 3425 1450 \r\nL 2275 1450 \r\nL 2275 225 \r\nQ 2975 -75 4087 -112 \r\nQ 5200 -150 6125 -50 \r\nL 6125 -150 \r\nQ 5675 -225 5650 -550 \r\nQ 4925 -575 3987 -500 \r\nQ 3050 -425 2312 -125 \r\nQ 1575 175 1125 875 \r\nQ 825 -75 350 -625 \r\nL 275 -575 \r\nQ 725 225 837 1112 \r\nQ 950 2000 950 2300 \r\nL 1500 2025 \r\nQ 1375 1975 1312 1762 \r\nQ 1250 1550 1175 1025 \r\nQ 1575 550 1950 350 \r\nL 1950 2800 \r\nL 1075 2800 \r\nQ 875 2800 600 2725 \r\nL 375 2950 \r\nL 1900 2950 \r\nL 1900 3975 \r\nL 1375 3975 \r\nQ 1175 3975 900 3900 \r\nL 675 4125 \r\nL 1900 4125 \r\nz\r\n\" id=\"SimSun-8d77\" transform=\"scale(0.015625)\"/>\r\n      <path d=\"M 5900 -375 \r\nQ 6025 -525 5450 -475 \r\nQ 4875 -425 4237 -12 \r\nQ 3600 400 3362 1212 \r\nQ 3125 2025 3125 2825 \r\nQ 3125 3625 3125 4525 \r\nL 1275 4525 \r\nQ 950 4525 675 4450 \r\nL 450 4675 \r\nL 3075 4675 \r\nL 3350 4950 \r\nL 3700 4600 \r\nL 3475 4425 \r\nL 3475 3075 \r\nL 3675 3000 \r\nQ 4375 3725 4825 4575 \r\nL 5325 4175 \r\nL 5050 4075 \r\nQ 4350 3400 3800 2950 \r\nQ 4875 2475 5012 2287 \r\nQ 5150 2100 5150 1950 \r\nQ 5150 1875 5112 1750 \r\nQ 5075 1625 5025 1625 \r\nQ 4950 1625 4750 1900 \r\nQ 4450 2300 3475 2950 \r\nQ 3475 1550 3937 837 \r\nQ 4400 125 5325 -25 \r\nL 5500 1300 \r\nL 5600 1300 \r\nQ 5600 575 5687 187 \r\nQ 5775 -200 5900 -375 \r\nz\r\n\" id=\"SimSun-98de\" transform=\"scale(0.015625)\"/>\r\n      <path d=\"M 2800 2050 \r\nL 3225 1675 \r\nL 3000 1550 \r\nQ 2400 625 1862 200 \r\nQ 1325 -225 400 -575 \r\nL 375 -500 \r\nQ 1475 100 2000 712 \r\nQ 2525 1325 2800 2050 \r\nz\r\nM 1800 2950 \r\nL 1800 4375 \r\nQ 1800 4700 1775 5250 \r\nL 2300 5025 \r\nL 2100 4850 \r\nL 2100 4075 \r\nL 2500 4075 \r\nL 2775 4350 \r\nL 3150 3925 \r\nL 2100 3925 \r\nL 2100 2950 \r\nL 2575 2950 \r\nL 2875 3225 \r\nL 3275 2800 \r\nL 1800 2800 \r\nL 2250 2550 \r\nL 2075 2425 \r\nL 2075 1150 \r\nL 1750 950 \r\nL 1750 2800 \r\nL 1150 2800 \r\nQ 825 2800 550 2725 \r\nL 325 2950 \r\nL 1000 2950 \r\nL 1000 3900 \r\nQ 1000 4200 975 4500 \r\nL 1500 4275 \r\nL 1300 4100 \r\nL 1300 2950 \r\nL 1800 2950 \r\nz\r\nM 1100 2325 \r\nL 1550 2025 \r\nQ 1375 1975 1100 1500 \r\nQ 800 1000 325 575 \r\nL 275 650 \r\nQ 825 1400 1100 2325 \r\nz\r\nM 3375 800 \r\nQ 3400 1450 3400 2312 \r\nQ 3400 3175 3375 3925 \r\nL 3725 3725 \r\nL 4200 3725 \r\nQ 4300 4425 4325 4700 \r\nL 3775 4700 \r\nQ 3450 4700 3175 4625 \r\nL 2950 4850 \r\nL 5400 4850 \r\nL 5725 5150 \r\nL 6150 4700 \r\nL 4800 4700 \r\nQ 4625 4500 4325 3725 \r\nL 5425 3725 \r\nL 5625 3950 \r\nL 6000 3650 \r\nL 5800 3500 \r\nL 5800 1975 \r\nQ 5800 1550 5825 1100 \r\nL 5475 900 \r\nL 5475 3575 \r\nL 3725 3575 \r\nL 3725 1025 \r\nL 3375 800 \r\nz\r\nM 5000 2875 \r\nL 4775 2700 \r\nQ 4775 1500 4612 987 \r\nQ 4450 475 3987 100 \r\nQ 3525 -275 2575 -575 \r\nL 2550 -500 \r\nQ 3550 -50 3937 400 \r\nQ 4325 850 4387 1587 \r\nQ 4450 2325 4425 3150 \r\nL 5000 2875 \r\nz\r\nM 4725 875 \r\nQ 5700 425 5862 250 \r\nQ 6025 75 6025 -100 \r\nQ 6025 -225 5975 -362 \r\nQ 5925 -500 5875 -500 \r\nQ 5825 -500 5775 -400 \r\nQ 5650 -175 5437 87 \r\nQ 5225 350 4675 800 \r\nL 4725 875 \r\nz\r\n\" id=\"SimSun-9891\" transform=\"scale(0.015625)\"/>\r\n      <path d=\"M 2550 2025 \r\nQ 2575 2525 2575 3175 \r\nL 1925 3175 \r\nL 1625 3125 \r\nL 1425 3325 \r\nL 2575 3325 \r\nQ 2575 3700 2550 4150 \r\nL 3100 3875 \r\nL 2900 3750 \r\nL 2900 3325 \r\nL 4300 3325 \r\nQ 4300 3750 4275 4125 \r\nL 4850 3875 \r\nL 4625 3725 \r\nL 4625 3325 \r\nL 5100 3325 \r\nL 5425 3650 \r\nL 5900 3175 \r\nL 4625 3175 \r\nQ 4625 2450 4650 2225 \r\nL 4300 2075 \r\nL 4300 2300 \r\nL 2900 2300 \r\nL 2900 2175 \r\nL 2550 2025 \r\nz\r\nM 4875 1500 \r\nQ 4300 775 3900 425 \r\nQ 4700 -75 6025 -125 \r\nL 6025 -225 \r\nQ 5625 -300 5550 -550 \r\nQ 4375 -325 3675 225 \r\nQ 2475 -450 1075 -625 \r\nL 1050 -525 \r\nQ 2375 -275 3450 450 \r\nQ 2975 925 2575 1625 \r\nL 2325 1625 \r\nL 2100 1575 \r\nL 1900 1775 \r\nL 4525 1775 \r\nL 4750 2000 \r\nL 5125 1625 \r\nL 4875 1500 \r\nz\r\nM 2700 1625 \r\nQ 3175 975 3650 625 \r\nQ 4150 1100 4500 1625 \r\nL 2700 1625 \r\nz\r\nM 2900 3175 \r\nL 2900 2450 \r\nL 4300 2450 \r\nL 4300 3175 \r\nL 2900 3175 \r\nz\r\nM 975 4650 \r\nL 1400 4400 \r\nL 3375 4400 \r\nQ 3350 4550 3262 4725 \r\nQ 3175 4900 2900 5225 \r\nL 2975 5275 \r\nQ 3550 5025 3637 4887 \r\nQ 3725 4750 3725 4725 \r\nQ 3725 4575 3525 4400 \r\nL 5150 4400 \r\nL 5500 4750 \r\nL 6000 4250 \r\nL 1375 4250 \r\nQ 1400 2750 1287 1912 \r\nQ 1175 1075 925 475 \r\nQ 675 -125 300 -625 \r\nL 225 -575 \r\nQ 725 300 862 1250 \r\nQ 1000 2200 1012 3187 \r\nQ 1025 4175 975 4650 \r\nz\r\n\" id=\"SimSun-5ea6\" transform=\"scale(0.015625)\"/>\r\n     </defs>\r\n     <use xlink:href=\"#SimSun-8d77\"/>\r\n     <use x=\"100\" xlink:href=\"#SimSun-98de\"/>\r\n     <use x=\"200\" xlink:href=\"#SimSun-9891\"/>\r\n     <use x=\"300\" xlink:href=\"#SimSun-5ea6\"/>\r\n    </g>\r\n   </g>\r\n  </g>\r\n </g>\r\n</svg>\r\n",
      "image/png": "[encoded data removed]"
     },
     "metadata": {}
    }
   ],
   "source": [
    "profession.plot(kind = 'pie', autopct = '%.2f%%',\n",
    "                figsize = (7, 7), title = '起飞频度',\n",
    "                label = '')"
   ]
  },
  {
   "cell_type": "code",
   "execution_count": 24,
   "metadata": {},
   "outputs": [],
   "source": [
    "market_data =pd.read_csv('样例\\市场数据_加盐.csv',encoding='utf-8')"
   ]
  },
  {
   "cell_type": "code",
   "execution_count": 25,
   "metadata": {},
   "outputs": [],
   "source": [
    "profession2 = market_data['market_id'].value_counts()/market_data['market_id'].value_counts().sum()"
   ]
  },
  {
   "cell_type": "code",
   "execution_count": 26,
   "metadata": {},
   "outputs": [
    {
     "output_type": "execute_result",
     "data": {
      "text/plain": [
       "<AxesSubplot:title={'center':'市场起飞频度'}>"
      ]
     },
     "metadata": {},
     "execution_count": 26
    },
    {
     "output_type": "display_data",
     "data": {
      "text/plain": "<Figure size 504x504 with 1 Axes>",
      "image/svg+xml": "<?xml version=\"1.0\" encoding=\"utf-8\" standalone=\"no\"?>\r\n<!DOCTYPE svg PUBLIC \"-//W3C//DTD SVG 1.1//EN\"\r\n  \"http://www.w3.org/Graphics/SVG/1.1/DTD/svg11.dtd\">\r\n<svg height=\"410.4825pt\" version=\"1.1\" viewBox=\"0 0 394.92 410.4825\" width=\"394.92pt\" xmlns=\"http://www.w3.org/2000/svg\" xmlns:xlink=\"http://www.w3.org/1999/xlink\">\r\n <metadata>\r\n  <rdf:RDF xmlns:cc=\"http://creativecommons.org/ns#\" xmlns:dc=\"http://purl.org/dc/elements/1.1/\" xmlns:rdf=\"http://www.w3.org/1999/02/22-rdf-syntax-ns#\">\r\n   <cc:Work>\r\n    <dc:type rdf:resource=\"http://purl.org/dc/dcmitype/StillImage\"/>\r\n    <dc:date>2021-04-28T17:18:36.186131</dc:date>\r\n    <dc:format>image/svg+xml</dc:format>\r\n    <dc:creator>\r\n     <cc:Agent>\r\n      <dc:title>Matplotlib v3.4.1, https://matplotlib.org/</dc:title>\r\n     </cc:Agent>\r\n    </dc:creator>\r\n   </cc:Work>\r\n  </rdf:RDF>\r\n </metadata>\r\n <defs>\r\n  <style type=\"text/css\">*{stroke-linecap:butt;stroke-linejoin:round;}</style>\r\n </defs>\r\n <g id=\"figure_1\">\r\n  <g id=\"patch_1\">\r\n   <path d=\"M 0 410.4825 \r\nL 394.92 410.4825 \r\nL 394.92 0 \r\nL 0 0 \r\nz\r\n\" style=\"fill:none;\"/>\r\n  </g>\r\n  <g id=\"axes_1\">\r\n   <g id=\"patch_2\">\r\n    <path d=\"M 349.668 213.0225 \r\nC 349.668 186.306404 342.634042 160.055316 329.275993 136.918498 \r\nC 315.917945 113.78168 296.700814 94.56455 273.563996 81.206503 \r\nC 250.427177 67.848456 224.176089 60.814499 197.459993 60.8145 \r\nC 170.743897 60.814501 144.492809 67.848461 121.355992 81.20651 \r\nL 197.46 213.0225 \r\nL 349.668 213.0225 \r\nz\r\n\" style=\"fill:#1f77b4;\"/>\r\n   </g>\r\n   <g id=\"patch_3\">\r\n    <path d=\"M 121.355992 81.20651 \r\nC 98.219175 94.56456 79.002046 113.781691 65.643999 136.91851 \r\nC 52.285953 160.055329 45.251997 186.306418 45.252 213.022514 \r\nC 45.252003 239.73861 52.285963 265.989698 65.644014 289.126514 \r\nC 79.002064 312.263331 98.219197 331.480459 121.356016 344.838504 \r\nL 197.46 213.0225 \r\nL 121.355992 81.20651 \r\nz\r\n\" style=\"fill:#ff7f0e;\"/>\r\n   </g>\r\n   <g id=\"patch_4\">\r\n    <path d=\"M 121.356016 344.838504 \r\nC 144.492836 358.196549 170.743925 365.230504 197.460021 365.2305 \r\nC 224.176118 365.230496 250.427205 358.196534 273.564021 344.838483 \r\nC 296.700836 331.480431 315.917964 312.263298 329.276008 289.126477 \r\nC 342.634052 265.989657 349.668005 239.738568 349.668 213.022471 \r\nL 197.46 213.0225 \r\nL 121.356016 344.838504 \r\nz\r\n\" style=\"fill:#2ca02c;\"/>\r\n   </g>\r\n   <g id=\"matplotlib.axis_1\"/>\r\n   <g id=\"matplotlib.axis_2\"/>\r\n   <g id=\"text_1\">\r\n    <!-- 港澳台 -->\r\n    <g transform=\"translate(281.174395 71.364747)scale(0.1 -0.1)\">\r\n     <defs>\r\n      <path d=\"M 3225 3975 \r\nL 3225 3075 \r\nL 4225 3075 \r\nL 4225 3975 \r\nL 3225 3975 \r\nz\r\nM 3025 1900 \r\nL 3025 1050 \r\nL 4350 1050 \r\nL 4350 1900 \r\nL 3025 1900 \r\nz\r\nM 4650 1825 \r\nQ 4650 1025 4675 800 \r\nL 4350 675 \r\nL 4350 900 \r\nL 3025 900 \r\nL 3025 200 \r\nQ 3025 -75 3275 -75 \r\nL 5175 -75 \r\nQ 5375 -50 5375 1000 \r\nL 5475 1000 \r\nQ 5500 500 5562 287 \r\nQ 5625 75 5800 0 \r\nQ 5650 -375 5125 -375 \r\nL 3225 -375 \r\nQ 2700 -375 2700 125 \r\nL 2700 1875 \r\nQ 2125 1225 1425 875 \r\nL 1400 975 \r\nQ 2525 1825 3000 2925 \r\nL 2550 2925 \r\nQ 2225 2925 1950 2850 \r\nL 1725 3075 \r\nL 2900 3075 \r\nL 2900 3975 \r\nQ 2600 3975 2325 3900 \r\nL 2100 4125 \r\nL 2900 4125 \r\nQ 2900 4900 2875 5250 \r\nL 3400 5000 \r\nL 3225 4825 \r\nL 3225 4125 \r\nL 4225 4125 \r\nQ 4225 4950 4200 5250 \r\nL 4725 5025 \r\nL 4550 4825 \r\nL 4550 4125 \r\nL 5025 4125 \r\nL 5300 4400 \r\nL 5700 3975 \r\nL 4550 3975 \r\nL 4550 3075 \r\nL 5475 3075 \r\nL 5750 3350 \r\nL 6150 2925 \r\nL 4350 2925 \r\nQ 4975 1925 6150 1700 \r\nL 6150 1625 \r\nQ 5825 1575 5725 1325 \r\nQ 4725 1850 4225 2925 \r\nL 3400 2925 \r\nQ 3200 2525 2900 2125 \r\nL 3025 2050 \r\nL 4300 2050 \r\nL 4525 2275 \r\nL 4825 1975 \r\nL 4650 1825 \r\nz\r\nM 1875 3950 \r\nQ 1275 1475 1200 1175 \r\nQ 1100 850 1112 400 \r\nQ 1125 -50 1150 -225 \r\nQ 1150 -325 1025 -325 \r\nQ 925 -325 775 -275 \r\nQ 625 -225 625 -50 \r\nQ 625 75 700 325 \r\nQ 775 575 775 725 \r\nQ 775 900 662 1000 \r\nQ 550 1100 225 1200 \r\nL 225 1300 \r\nQ 625 1250 737 1262 \r\nQ 850 1275 987 1487 \r\nQ 1125 1700 1775 3975 \r\nL 1875 3950 \r\nz\r\nM 300 3775 \r\nQ 1100 3400 1100 3112 \r\nQ 1100 2825 962 2725 \r\nQ 825 2625 725 2975 \r\nQ 600 3300 250 3700 \r\nL 300 3775 \r\nz\r\nM 850 5100 \r\nQ 1550 4750 1612 4575 \r\nQ 1675 4400 1675 4325 \r\nQ 1675 4200 1587 4100 \r\nQ 1500 4000 1450 4000 \r\nQ 1375 4000 1300 4250 \r\nQ 1175 4575 800 5025 \r\nL 850 5100 \r\nz\r\n\" id=\"SimSun-6e2f\" transform=\"scale(0.015625)\"/>\r\n      <path d=\"M 2175 1400 \r\nQ 2200 2200 2200 3050 \r\nQ 2200 3900 2175 4650 \r\nL 2575 4450 \r\nL 3200 4450 \r\nQ 3325 4800 3425 5275 \r\nL 3875 5025 \r\nQ 3625 4875 3325 4450 \r\nL 5075 4450 \r\nL 5300 4675 \r\nL 5625 4350 \r\nL 5425 4200 \r\nQ 5425 2300 5450 1675 \r\nL 5100 1525 \r\nL 5100 4300 \r\nL 2525 4300 \r\nL 2525 1550 \r\nL 2175 1400 \r\nz\r\nM 2825 3950 \r\nQ 3250 3750 3337 3637 \r\nQ 3425 3525 3425 3425 \r\nQ 3425 3325 3350 3225 \r\nQ 3275 3125 3250 3125 \r\nQ 3175 3125 3100 3350 \r\nQ 3000 3650 2775 3900 \r\nL 2825 3950 \r\nz\r\nM 3625 3025 \r\nQ 3625 3950 3600 4250 \r\nL 4100 4000 \r\nL 3925 3850 \r\nL 3925 3025 \r\nL 4425 3025 \r\nL 4650 3250 \r\nL 5000 2875 \r\nL 3925 2875 \r\nL 3925 2750 \r\nQ 4500 2550 4650 2425 \r\nQ 4800 2300 4800 2150 \r\nQ 4800 2075 4750 1975 \r\nQ 4700 1875 4675 1875 \r\nQ 4625 1875 4550 2000 \r\nQ 4400 2200 4275 2337 \r\nQ 4150 2475 3925 2625 \r\nQ 3925 2050 3950 1900 \r\nL 3600 1775 \r\nQ 3625 2075 3625 2575 \r\nQ 3300 2075 2700 1675 \r\nL 2650 1750 \r\nQ 3225 2375 3450 2875 \r\nQ 3125 2875 2850 2800 \r\nL 2625 3025 \r\nL 3625 3025 \r\nz\r\nM 4050 3125 \r\nQ 4350 3700 4425 4025 \r\nL 4800 3750 \r\nQ 4650 3675 4462 3462 \r\nQ 4275 3250 4125 3075 \r\nL 4050 3125 \r\nz\r\nM 4025 1550 \r\nL 3875 1425 \r\nL 3825 1225 \r\nL 5350 1225 \r\nL 5650 1525 \r\nL 6075 1075 \r\nL 4075 1075 \r\nQ 4725 75 6050 -125 \r\nL 6050 -200 \r\nQ 5725 -250 5600 -500 \r\nQ 4450 -25 3950 1075 \r\nL 3800 1075 \r\nQ 3325 -400 1525 -650 \r\nL 1525 -550 \r\nQ 2975 -175 3450 1075 \r\nL 2375 1075 \r\nQ 2050 1075 1775 1000 \r\nL 1550 1225 \r\nL 3475 1225 \r\nQ 3525 1450 3525 1750 \r\nL 4025 1550 \r\nz\r\nM 2075 3850 \r\nQ 1400 1425 1325 1125 \r\nQ 1225 800 1237 350 \r\nQ 1250 -100 1275 -275 \r\nQ 1275 -375 1150 -375 \r\nQ 1050 -375 900 -325 \r\nQ 750 -275 750 -100 \r\nQ 750 25 825 275 \r\nQ 900 525 900 675 \r\nQ 900 850 787 950 \r\nQ 675 1050 300 1150 \r\nL 300 1250 \r\nQ 750 1200 862 1212 \r\nQ 975 1225 1112 1437 \r\nQ 1250 1650 1975 3875 \r\nL 2075 3850 \r\nz\r\nM 325 3525 \r\nQ 1150 3125 1187 2837 \r\nQ 1225 2550 1137 2475 \r\nQ 1050 2400 1000 2400 \r\nQ 900 2400 800 2700 \r\nQ 650 3075 275 3450 \r\nL 325 3525 \r\nz\r\nM 900 4975 \r\nQ 1600 4600 1662 4437 \r\nQ 1725 4275 1725 4225 \r\nQ 1725 4100 1637 4000 \r\nQ 1550 3900 1500 3900 \r\nQ 1425 3900 1350 4150 \r\nQ 1225 4500 850 4900 \r\nL 900 4975 \r\nz\r\n\" id=\"SimSun-6fb3\" transform=\"scale(0.015625)\"/>\r\n      <path d=\"M 1850 1700 \r\nL 1850 50 \r\nL 4525 50 \r\nL 4525 1700 \r\nL 1850 1700 \r\nz\r\nM 1325 2925 \r\nL 4950 3025 \r\nQ 4675 3375 3975 3975 \r\nL 4050 4050 \r\nQ 5000 3525 5350 3275 \r\nQ 5700 3025 5700 2775 \r\nQ 5700 2700 5625 2525 \r\nQ 5550 2350 5500 2350 \r\nQ 5425 2350 5375 2450 \r\nQ 5225 2675 5075 2875 \r\nQ 4025 2850 2750 2725 \r\nQ 1475 2600 1100 2350 \r\nL 750 2975 \r\nQ 975 3000 1300 3262 \r\nQ 1625 3525 2175 4187 \r\nQ 2725 4850 2900 5250 \r\nL 3475 4825 \r\nQ 3200 4775 3000 4575 \r\nQ 2775 4350 1325 2925 \r\nz\r\nM 1475 -575 \r\nQ 1500 -50 1500 712 \r\nQ 1500 1475 1475 2100 \r\nL 1875 1850 \r\nL 4475 1850 \r\nL 4650 2100 \r\nL 5100 1825 \r\nL 4875 1625 \r\nL 4875 350 \r\nQ 4875 75 4900 -350 \r\nL 4525 -525 \r\nL 4525 -100 \r\nL 1850 -100 \r\nL 1850 -400 \r\nL 1475 -575 \r\nz\r\n\" id=\"SimSun-53f0\" transform=\"scale(0.015625)\"/>\r\n     </defs>\r\n     <use xlink:href=\"#SimSun-6e2f\"/>\r\n     <use x=\"100\" xlink:href=\"#SimSun-6fb3\"/>\r\n     <use x=\"200\" xlink:href=\"#SimSun-53f0\"/>\r\n    </g>\r\n   </g>\r\n   <g id=\"text_2\">\r\n    <!-- 33.33% -->\r\n    <g transform=\"translate(228.122398 136.862589)scale(0.1 -0.1)\">\r\n     <defs>\r\n      <path d=\"M 2800 1250 \r\nQ 2800 775 2450 412 \r\nQ 2100 50 1475 50 \r\nQ 1025 50 700 300 \r\nQ 375 550 375 875 \r\nQ 375 1025 475 1137 \r\nQ 575 1250 675 1250 \r\nQ 825 1250 887 1137 \r\nQ 950 1025 950 950 \r\nQ 950 825 900 750 \r\nQ 850 650 850 575 \r\nQ 850 425 1037 325 \r\nQ 1225 225 1450 225 \r\nQ 1900 225 2125 487 \r\nQ 2350 750 2350 1300 \r\nQ 2350 1750 2112 2025 \r\nQ 1875 2300 1225 2300 \r\nL 1225 2475 \r\nQ 1725 2475 1962 2712 \r\nQ 2200 2950 2200 3375 \r\nQ 2200 3725 2012 3987 \r\nQ 1825 4250 1425 4250 \r\nQ 1250 4250 1050 4162 \r\nQ 850 4075 850 3875 \r\nQ 850 3675 900 3625 \r\nQ 950 3575 950 3500 \r\nQ 950 3375 900 3300 \r\nQ 850 3225 725 3225 \r\nQ 625 3225 537 3300 \r\nQ 450 3375 450 3575 \r\nQ 450 3950 775 4187 \r\nQ 1100 4425 1525 4425 \r\nQ 2025 4425 2325 4112 \r\nQ 2625 3800 2625 3450 \r\nQ 2625 3075 2437 2812 \r\nQ 2250 2550 1850 2425 \r\nQ 2400 2225 2600 1900 \r\nQ 2800 1575 2800 1250 \r\nz\r\n\" id=\"SimSun-33\" transform=\"scale(0.015625)\"/>\r\n      <path d=\"M 800 25 \r\nQ 650 25 537 125 \r\nQ 425 225 425 400 \r\nQ 425 575 537 675 \r\nQ 650 775 800 775 \r\nQ 950 775 1062 662 \r\nQ 1175 550 1175 400 \r\nQ 1175 225 1062 125 \r\nQ 950 25 800 25 \r\nz\r\n\" id=\"SimSun-2e\" transform=\"scale(0.015625)\"/>\r\n      <path d=\"M 750 4250 \r\nQ 600 4250 500 4050 \r\nQ 400 3850 400 3300 \r\nQ 400 2675 512 2487 \r\nQ 625 2300 750 2300 \r\nQ 925 2300 1012 2525 \r\nQ 1100 2750 1100 3300 \r\nQ 1100 3750 1037 4000 \r\nQ 975 4250 750 4250 \r\nz\r\nM 1425 3275 \r\nQ 1425 2825 1275 2487 \r\nQ 1125 2150 750 2150 \r\nQ 450 2150 262 2450 \r\nQ 75 2750 75 3275 \r\nQ 75 3825 275 4125 \r\nQ 475 4425 750 4425 \r\nQ 1050 4425 1237 4112 \r\nQ 1425 3800 1425 3275 \r\nz\r\nM 2725 1200 \r\nQ 2725 1625 2650 1900 \r\nQ 2575 2175 2375 2175 \r\nQ 2225 2175 2125 1937 \r\nQ 2025 1700 2025 1200 \r\nQ 2025 575 2137 400 \r\nQ 2250 225 2375 225 \r\nQ 2550 225 2637 437 \r\nQ 2725 650 2725 1200 \r\nz\r\nM 3050 1175 \r\nQ 3050 675 2875 362 \r\nQ 2700 50 2375 50 \r\nQ 2100 50 1900 362 \r\nQ 1700 675 1700 1175 \r\nQ 1700 1725 1900 2037 \r\nQ 2100 2350 2375 2350 \r\nQ 2675 2350 2862 2025 \r\nQ 3050 1700 3050 1175 \r\nz\r\nM 2525 4350 \r\nL 725 50 \r\nL 575 125 \r\nL 2350 4425 \r\nL 2525 4350 \r\nz\r\n\" id=\"SimSun-25\" transform=\"scale(0.015625)\"/>\r\n     </defs>\r\n     <use xlink:href=\"#SimSun-33\"/>\r\n     <use x=\"50\" xlink:href=\"#SimSun-33\"/>\r\n     <use x=\"100\" xlink:href=\"#SimSun-2e\"/>\r\n     <use x=\"150\" xlink:href=\"#SimSun-33\"/>\r\n     <use x=\"200\" xlink:href=\"#SimSun-33\"/>\r\n     <use x=\"250\" xlink:href=\"#SimSun-25\"/>\r\n    </g>\r\n   </g>\r\n   <g id=\"text_3\">\r\n    <!-- 国际 -->\r\n    <g transform=\"translate(10.0312 216.206109)scale(0.1 -0.1)\">\r\n     <defs>\r\n      <path d=\"M 1550 4150 \r\nL 4250 4150 \r\nL 4550 4450 \r\nL 5000 4000 \r\nL 3350 4000 \r\nL 3350 2825 \r\nL 4025 2825 \r\nL 4325 3125 \r\nL 4775 2675 \r\nL 3350 2675 \r\nL 3350 1025 \r\nL 4200 1025 \r\nL 4550 1375 \r\nL 5050 875 \r\nL 2225 875 \r\nQ 1900 875 1625 800 \r\nL 1400 1025 \r\nL 3000 1025 \r\nL 3000 2675 \r\nL 2325 2675 \r\nL 1975 2600 \r\nL 1750 2825 \r\nL 3000 2825 \r\nL 3000 4000 \r\nL 2125 4000 \r\nL 1775 3925 \r\nL 1550 4150 \r\nz\r\nM 3625 2475 \r\nQ 4175 2225 4337 2075 \r\nQ 4500 1925 4500 1775 \r\nQ 4500 1650 4425 1512 \r\nQ 4350 1375 4300 1375 \r\nQ 4225 1375 4150 1600 \r\nQ 4025 1925 3550 2400 \r\nL 3625 2475 \r\nz\r\nM 875 -550 \r\nQ 900 0 900 525 \r\nL 900 4075 \r\nQ 900 4550 875 5175 \r\nL 1250 4950 \r\nL 5150 4950 \r\nL 5350 5175 \r\nL 5750 4850 \r\nL 5525 4700 \r\nL 5525 750 \r\nQ 5525 250 5550 -275 \r\nL 5175 -425 \r\nL 5175 75 \r\nL 1250 75 \r\nL 1250 -375 \r\nL 875 -550 \r\nz\r\nM 1250 4800 \r\nL 1250 225 \r\nL 5175 225 \r\nL 5175 4800 \r\nL 1250 4800 \r\nz\r\n\" id=\"SimSun-56fd\" transform=\"scale(0.015625)\"/>\r\n      <path d=\"M 4750 2300 \r\nQ 5600 1475 5762 1187 \r\nQ 5925 900 5925 700 \r\nQ 5925 575 5850 450 \r\nQ 5775 325 5750 325 \r\nQ 5650 325 5550 625 \r\nQ 5400 1050 5200 1412 \r\nQ 5000 1775 4675 2250 \r\nL 4750 2300 \r\nz\r\nM 2750 4725 \r\nL 5000 4725 \r\nL 5275 5000 \r\nL 5675 4575 \r\nL 3450 4575 \r\nQ 3250 4575 2975 4500 \r\nL 2750 4725 \r\nz\r\nM 2275 3200 \r\nL 5400 3200 \r\nL 5700 3500 \r\nL 6125 3050 \r\nL 4325 3050 \r\nL 4325 175 \r\nQ 4325 -50 4225 -212 \r\nQ 4125 -375 3700 -525 \r\nQ 3650 -175 2975 50 \r\nL 2975 150 \r\nQ 3675 25 3825 37 \r\nQ 3975 50 3975 275 \r\nL 3975 3050 \r\nL 3100 3050 \r\nQ 2775 3050 2500 2975 \r\nL 2275 3200 \r\nz\r\nM 3625 2125 \r\nL 3400 1975 \r\nQ 2675 600 1900 50 \r\nL 1850 125 \r\nQ 2375 750 2687 1400 \r\nQ 3000 2050 3100 2450 \r\nL 3625 2125 \r\nz\r\nM 700 -550 \r\nQ 725 700 725 2587 \r\nQ 725 4475 700 5050 \r\nL 1050 4825 \r\nL 1950 4825 \r\nL 2175 5050 \r\nL 2525 4700 \r\nL 2300 4550 \r\nL 1600 3200 \r\nQ 2050 2750 2212 2475 \r\nQ 2375 2200 2387 1912 \r\nQ 2400 1625 2275 1375 \r\nQ 2150 1125 1625 950 \r\nQ 1550 1300 1050 1475 \r\nL 1050 -375 \r\nL 700 -550 \r\nz\r\nM 1475 3200 \r\nL 1975 4675 \r\nL 1050 4675 \r\nL 1050 1575 \r\nQ 1675 1425 1862 1475 \r\nQ 2050 1525 2050 1962 \r\nQ 2050 2400 1475 3200 \r\nz\r\n\" id=\"SimSun-9645\" transform=\"scale(0.015625)\"/>\r\n     </defs>\r\n     <use xlink:href=\"#SimSun-56fd\"/>\r\n     <use x=\"100\" xlink:href=\"#SimSun-9645\"/>\r\n    </g>\r\n   </g>\r\n   <g id=\"text_4\">\r\n    <!-- 33.33% -->\r\n    <g transform=\"translate(91.1352 215.952196)scale(0.1 -0.1)\">\r\n     <use xlink:href=\"#SimSun-33\"/>\r\n     <use x=\"50\" xlink:href=\"#SimSun-33\"/>\r\n     <use x=\"100\" xlink:href=\"#SimSun-2e\"/>\r\n     <use x=\"150\" xlink:href=\"#SimSun-33\"/>\r\n     <use x=\"200\" xlink:href=\"#SimSun-33\"/>\r\n     <use x=\"250\" xlink:href=\"#SimSun-25\"/>\r\n    </g>\r\n   </g>\r\n   <g id=\"text_5\">\r\n    <!-- 国内 -->\r\n    <g transform=\"translate(281.174423 361.340394)scale(0.1 -0.1)\">\r\n     <defs>\r\n      <path d=\"M 1400 3625 \r\nL 1400 975 \r\nQ 2075 1350 2500 2025 \r\nQ 2925 2700 2975 3625 \r\nL 1400 3625 \r\nz\r\nM 1025 -650 \r\nQ 1050 0 1050 425 \r\nL 1050 2850 \r\nQ 1050 3675 1025 4025 \r\nL 1400 3775 \r\nL 2975 3775 \r\nQ 3000 4475 2975 5250 \r\nL 3625 4950 \r\nL 3375 4775 \r\nQ 3375 4275 3350 3775 \r\nL 4875 3775 \r\nL 5100 4050 \r\nL 5525 3725 \r\nL 5300 3550 \r\nL 5300 200 \r\nQ 5325 -375 4725 -600 \r\nQ 4700 -200 3825 -25 \r\nL 3825 75 \r\nQ 4500 25 4737 25 \r\nQ 4975 25 4950 475 \r\nL 4950 3625 \r\nL 3350 3625 \r\nQ 3300 3100 3200 2700 \r\nQ 4525 1950 4562 1750 \r\nQ 4600 1550 4600 1425 \r\nQ 4600 1225 4525 1112 \r\nQ 4450 1000 4425 1000 \r\nQ 4350 1000 4275 1225 \r\nQ 4125 1550 3812 1912 \r\nQ 3500 2275 3150 2575 \r\nQ 2900 1950 2425 1512 \r\nQ 1950 1075 1400 850 \r\nL 1400 -450 \r\nL 1025 -650 \r\nz\r\n\" id=\"SimSun-5185\" transform=\"scale(0.015625)\"/>\r\n     </defs>\r\n     <use xlink:href=\"#SimSun-56fd\"/>\r\n     <use x=\"100\" xlink:href=\"#SimSun-5185\"/>\r\n    </g>\r\n   </g>\r\n   <g id=\"text_6\">\r\n    <!-- 33.33% -->\r\n    <g transform=\"translate(228.122412 295.041777)scale(0.1 -0.1)\">\r\n     <use xlink:href=\"#SimSun-33\"/>\r\n     <use x=\"50\" xlink:href=\"#SimSun-33\"/>\r\n     <use x=\"100\" xlink:href=\"#SimSun-2e\"/>\r\n     <use x=\"150\" xlink:href=\"#SimSun-33\"/>\r\n     <use x=\"200\" xlink:href=\"#SimSun-33\"/>\r\n     <use x=\"250\" xlink:href=\"#SimSun-25\"/>\r\n    </g>\r\n   </g>\r\n   <g id=\"text_7\">\r\n    <!-- 市场起飞频度 -->\r\n    <g transform=\"translate(161.46 16.7625)scale(0.12 -0.12)\">\r\n     <defs>\r\n      <path d=\"M 2625 5150 \r\nL 2675 5225 \r\nQ 3175 4975 3312 4812 \r\nQ 3450 4650 3450 4550 \r\nQ 3450 4500 3387 4362 \r\nQ 3325 4225 3212 4187 \r\nQ 3100 4150 3025 4450 \r\nQ 2950 4725 2625 5150 \r\nz\r\nM 1250 -25 \r\nQ 1275 925 1275 1837 \r\nQ 1275 2750 1250 3325 \r\nL 1625 3100 \r\nL 3000 3100 \r\nL 3000 3975 \r\nL 1250 3975 \r\nQ 925 3975 650 3900 \r\nL 425 4125 \r\nL 5075 4125 \r\nL 5475 4525 \r\nL 6025 3975 \r\nL 3350 3975 \r\nL 3350 3100 \r\nL 4750 3100 \r\nL 4925 3350 \r\nL 5375 3050 \r\nL 5150 2875 \r\nL 5150 675 \r\nQ 5150 200 4575 0 \r\nQ 4575 350 3875 550 \r\nL 3875 650 \r\nQ 4300 600 4562 600 \r\nQ 4825 600 4800 900 \r\nL 4800 2950 \r\nL 3350 2950 \r\nL 3350 425 \r\nQ 3350 -25 3375 -475 \r\nL 2975 -650 \r\nQ 3000 0 3000 575 \r\nL 3000 2950 \r\nL 1625 2950 \r\nL 1625 150 \r\nL 1250 -25 \r\nz\r\n\" id=\"SimSun-5e02\" transform=\"scale(0.015625)\"/>\r\n      <path d=\"M 5375 2775 \r\nL 5625 3025 \r\nL 6000 2650 \r\nL 5775 2500 \r\nQ 5675 775 5575 300 \r\nQ 5475 -175 5237 -362 \r\nQ 5000 -550 4775 -625 \r\nQ 4675 -225 3975 0 \r\nL 4000 100 \r\nQ 4450 0 4787 -37 \r\nQ 5125 -75 5225 450 \r\nQ 5325 975 5425 2625 \r\nL 4900 2625 \r\nQ 4600 1225 3850 500 \r\nQ 3100 -225 2025 -575 \r\nL 2000 -475 \r\nQ 3000 -25 3637 725 \r\nQ 4275 1475 4500 2625 \r\nL 3950 2625 \r\nQ 3750 1975 3350 1387 \r\nQ 2950 800 1975 300 \r\nL 1925 400 \r\nQ 2525 775 2950 1350 \r\nQ 3375 1925 3550 2625 \r\nL 2975 2625 \r\nL 2750 2475 \r\nL 2475 2825 \r\nL 2750 2925 \r\nQ 3725 3750 4550 4625 \r\nL 2975 4625 \r\nL 2700 4575 \r\nL 2500 4775 \r\nL 4550 4775 \r\nL 4800 5025 \r\nL 5200 4675 \r\nL 4950 4550 \r\nQ 3975 3550 3025 2775 \r\nL 5375 2775 \r\nz\r\nM 1675 1250 \r\nL 2725 1725 \r\nL 2750 1625 \r\nQ 925 600 550 250 \r\nL 225 700 \r\nQ 625 825 1300 1100 \r\nL 1300 3250 \r\nL 1100 3250 \r\nQ 775 3250 500 3175 \r\nL 275 3400 \r\nL 1300 3400 \r\nL 1300 4225 \r\nQ 1300 4650 1275 5175 \r\nL 1900 4875 \r\nL 1675 4650 \r\nL 1675 3400 \r\nL 2050 3400 \r\nL 2325 3675 \r\nL 2750 3250 \r\nL 1675 3250 \r\nL 1675 1250 \r\nz\r\n\" id=\"SimSun-573a\" transform=\"scale(0.015625)\"/>\r\n      <path d=\"M 3650 1125 \r\nL 3650 2650 \r\nL 3625 3150 \r\nL 3975 2950 \r\nL 5225 2950 \r\nL 5225 4200 \r\nL 4325 4200 \r\nQ 4000 4200 3725 4125 \r\nL 3500 4350 \r\nL 5175 4350 \r\nL 5325 4600 \r\nL 5725 4350 \r\nL 5550 4175 \r\nQ 5550 2975 5575 2625 \r\nL 5225 2475 \r\nL 5225 2800 \r\nL 3975 2800 \r\nL 3975 1250 \r\nQ 3925 800 4300 825 \r\nL 5350 825 \r\nQ 5600 850 5625 1300 \r\nQ 5650 1750 5650 2000 \r\nL 5775 2000 \r\nQ 5775 1550 5825 1262 \r\nQ 5875 975 6100 900 \r\nQ 5900 525 5425 550 \r\nL 4200 550 \r\nQ 3625 525 3650 1125 \r\nz\r\nM 1900 4125 \r\nQ 1900 4825 1875 5250 \r\nL 2425 5000 \r\nL 2225 4800 \r\nL 2225 4125 \r\nL 2625 4125 \r\nL 2950 4425 \r\nL 3325 3975 \r\nL 2225 3975 \r\nL 2225 2950 \r\nL 2800 2950 \r\nL 3100 3250 \r\nL 3525 2800 \r\nL 2125 2800 \r\nL 2475 2600 \r\nL 2275 2425 \r\nL 2275 1600 \r\nL 2700 1600 \r\nL 3025 1900 \r\nL 3425 1450 \r\nL 2275 1450 \r\nL 2275 225 \r\nQ 2975 -75 4087 -112 \r\nQ 5200 -150 6125 -50 \r\nL 6125 -150 \r\nQ 5675 -225 5650 -550 \r\nQ 4925 -575 3987 -500 \r\nQ 3050 -425 2312 -125 \r\nQ 1575 175 1125 875 \r\nQ 825 -75 350 -625 \r\nL 275 -575 \r\nQ 725 225 837 1112 \r\nQ 950 2000 950 2300 \r\nL 1500 2025 \r\nQ 1375 1975 1312 1762 \r\nQ 1250 1550 1175 1025 \r\nQ 1575 550 1950 350 \r\nL 1950 2800 \r\nL 1075 2800 \r\nQ 875 2800 600 2725 \r\nL 375 2950 \r\nL 1900 2950 \r\nL 1900 3975 \r\nL 1375 3975 \r\nQ 1175 3975 900 3900 \r\nL 675 4125 \r\nL 1900 4125 \r\nz\r\n\" id=\"SimSun-8d77\" transform=\"scale(0.015625)\"/>\r\n      <path d=\"M 5900 -375 \r\nQ 6025 -525 5450 -475 \r\nQ 4875 -425 4237 -12 \r\nQ 3600 400 3362 1212 \r\nQ 3125 2025 3125 2825 \r\nQ 3125 3625 3125 4525 \r\nL 1275 4525 \r\nQ 950 4525 675 4450 \r\nL 450 4675 \r\nL 3075 4675 \r\nL 3350 4950 \r\nL 3700 4600 \r\nL 3475 4425 \r\nL 3475 3075 \r\nL 3675 3000 \r\nQ 4375 3725 4825 4575 \r\nL 5325 4175 \r\nL 5050 4075 \r\nQ 4350 3400 3800 2950 \r\nQ 4875 2475 5012 2287 \r\nQ 5150 2100 5150 1950 \r\nQ 5150 1875 5112 1750 \r\nQ 5075 1625 5025 1625 \r\nQ 4950 1625 4750 1900 \r\nQ 4450 2300 3475 2950 \r\nQ 3475 1550 3937 837 \r\nQ 4400 125 5325 -25 \r\nL 5500 1300 \r\nL 5600 1300 \r\nQ 5600 575 5687 187 \r\nQ 5775 -200 5900 -375 \r\nz\r\n\" id=\"SimSun-98de\" transform=\"scale(0.015625)\"/>\r\n      <path d=\"M 2800 2050 \r\nL 3225 1675 \r\nL 3000 1550 \r\nQ 2400 625 1862 200 \r\nQ 1325 -225 400 -575 \r\nL 375 -500 \r\nQ 1475 100 2000 712 \r\nQ 2525 1325 2800 2050 \r\nz\r\nM 1800 2950 \r\nL 1800 4375 \r\nQ 1800 4700 1775 5250 \r\nL 2300 5025 \r\nL 2100 4850 \r\nL 2100 4075 \r\nL 2500 4075 \r\nL 2775 4350 \r\nL 3150 3925 \r\nL 2100 3925 \r\nL 2100 2950 \r\nL 2575 2950 \r\nL 2875 3225 \r\nL 3275 2800 \r\nL 1800 2800 \r\nL 2250 2550 \r\nL 2075 2425 \r\nL 2075 1150 \r\nL 1750 950 \r\nL 1750 2800 \r\nL 1150 2800 \r\nQ 825 2800 550 2725 \r\nL 325 2950 \r\nL 1000 2950 \r\nL 1000 3900 \r\nQ 1000 4200 975 4500 \r\nL 1500 4275 \r\nL 1300 4100 \r\nL 1300 2950 \r\nL 1800 2950 \r\nz\r\nM 1100 2325 \r\nL 1550 2025 \r\nQ 1375 1975 1100 1500 \r\nQ 800 1000 325 575 \r\nL 275 650 \r\nQ 825 1400 1100 2325 \r\nz\r\nM 3375 800 \r\nQ 3400 1450 3400 2312 \r\nQ 3400 3175 3375 3925 \r\nL 3725 3725 \r\nL 4200 3725 \r\nQ 4300 4425 4325 4700 \r\nL 3775 4700 \r\nQ 3450 4700 3175 4625 \r\nL 2950 4850 \r\nL 5400 4850 \r\nL 5725 5150 \r\nL 6150 4700 \r\nL 4800 4700 \r\nQ 4625 4500 4325 3725 \r\nL 5425 3725 \r\nL 5625 3950 \r\nL 6000 3650 \r\nL 5800 3500 \r\nL 5800 1975 \r\nQ 5800 1550 5825 1100 \r\nL 5475 900 \r\nL 5475 3575 \r\nL 3725 3575 \r\nL 3725 1025 \r\nL 3375 800 \r\nz\r\nM 5000 2875 \r\nL 4775 2700 \r\nQ 4775 1500 4612 987 \r\nQ 4450 475 3987 100 \r\nQ 3525 -275 2575 -575 \r\nL 2550 -500 \r\nQ 3550 -50 3937 400 \r\nQ 4325 850 4387 1587 \r\nQ 4450 2325 4425 3150 \r\nL 5000 2875 \r\nz\r\nM 4725 875 \r\nQ 5700 425 5862 250 \r\nQ 6025 75 6025 -100 \r\nQ 6025 -225 5975 -362 \r\nQ 5925 -500 5875 -500 \r\nQ 5825 -500 5775 -400 \r\nQ 5650 -175 5437 87 \r\nQ 5225 350 4675 800 \r\nL 4725 875 \r\nz\r\n\" id=\"SimSun-9891\" transform=\"scale(0.015625)\"/>\r\n      <path d=\"M 2550 2025 \r\nQ 2575 2525 2575 3175 \r\nL 1925 3175 \r\nL 1625 3125 \r\nL 1425 3325 \r\nL 2575 3325 \r\nQ 2575 3700 2550 4150 \r\nL 3100 3875 \r\nL 2900 3750 \r\nL 2900 3325 \r\nL 4300 3325 \r\nQ 4300 3750 4275 4125 \r\nL 4850 3875 \r\nL 4625 3725 \r\nL 4625 3325 \r\nL 5100 3325 \r\nL 5425 3650 \r\nL 5900 3175 \r\nL 4625 3175 \r\nQ 4625 2450 4650 2225 \r\nL 4300 2075 \r\nL 4300 2300 \r\nL 2900 2300 \r\nL 2900 2175 \r\nL 2550 2025 \r\nz\r\nM 4875 1500 \r\nQ 4300 775 3900 425 \r\nQ 4700 -75 6025 -125 \r\nL 6025 -225 \r\nQ 5625 -300 5550 -550 \r\nQ 4375 -325 3675 225 \r\nQ 2475 -450 1075 -625 \r\nL 1050 -525 \r\nQ 2375 -275 3450 450 \r\nQ 2975 925 2575 1625 \r\nL 2325 1625 \r\nL 2100 1575 \r\nL 1900 1775 \r\nL 4525 1775 \r\nL 4750 2000 \r\nL 5125 1625 \r\nL 4875 1500 \r\nz\r\nM 2700 1625 \r\nQ 3175 975 3650 625 \r\nQ 4150 1100 4500 1625 \r\nL 2700 1625 \r\nz\r\nM 2900 3175 \r\nL 2900 2450 \r\nL 4300 2450 \r\nL 4300 3175 \r\nL 2900 3175 \r\nz\r\nM 975 4650 \r\nL 1400 4400 \r\nL 3375 4400 \r\nQ 3350 4550 3262 4725 \r\nQ 3175 4900 2900 5225 \r\nL 2975 5275 \r\nQ 3550 5025 3637 4887 \r\nQ 3725 4750 3725 4725 \r\nQ 3725 4575 3525 4400 \r\nL 5150 4400 \r\nL 5500 4750 \r\nL 6000 4250 \r\nL 1375 4250 \r\nQ 1400 2750 1287 1912 \r\nQ 1175 1075 925 475 \r\nQ 675 -125 300 -625 \r\nL 225 -575 \r\nQ 725 300 862 1250 \r\nQ 1000 2200 1012 3187 \r\nQ 1025 4175 975 4650 \r\nz\r\n\" id=\"SimSun-5ea6\" transform=\"scale(0.015625)\"/>\r\n     </defs>\r\n     <use xlink:href=\"#SimSun-5e02\"/>\r\n     <use x=\"100\" xlink:href=\"#SimSun-573a\"/>\r\n     <use x=\"200\" xlink:href=\"#SimSun-8d77\"/>\r\n     <use x=\"300\" xlink:href=\"#SimSun-98de\"/>\r\n     <use x=\"400\" xlink:href=\"#SimSun-9891\"/>\r\n     <use x=\"500\" xlink:href=\"#SimSun-5ea6\"/>\r\n    </g>\r\n   </g>\r\n  </g>\r\n </g>\r\n</svg>\r\n",
      "image/png": "[encoded data removed]"
     },
     "metadata": {}
    }
   ],
   "source": [
    "profession2.plot(kind = 'pie', autopct = '%.2f%%',\n",
    "                figsize = (7, 7), title = '市场起飞频度',\n",
    "                label = '')"
   ]
  },
  {
   "cell_type": "code",
   "execution_count": 31,
   "metadata": {},
   "outputs": [
    {
     "output_type": "execute_result",
     "data": {
      "text/plain": [
       "<AxesSubplot:title={'center':'市场起飞频度'}>"
      ]
     },
     "metadata": {},
     "execution_count": 31
    },
    {
     "output_type": "display_data",
     "data": {
      "text/plain": "<Figure size 432x288 with 1 Axes>",
      "image/svg+xml": "<?xml version=\"1.0\" encoding=\"utf-8\" standalone=\"no\"?>\r\n<!DOCTYPE svg PUBLIC \"-//W3C//DTD SVG 1.1//EN\"\r\n  \"http://www.w3.org/Graphics/SVG/1.1/DTD/svg11.dtd\">\r\n<svg height=\"284.4025pt\" version=\"1.1\" viewBox=\"0 0 376.2 284.4025\" width=\"376.2pt\" xmlns=\"http://www.w3.org/2000/svg\" xmlns:xlink=\"http://www.w3.org/1999/xlink\">\r\n <metadata>\r\n  <rdf:RDF xmlns:cc=\"http://creativecommons.org/ns#\" xmlns:dc=\"http://purl.org/dc/elements/1.1/\" xmlns:rdf=\"http://www.w3.org/1999/02/22-rdf-syntax-ns#\">\r\n   <cc:Work>\r\n    <dc:type rdf:resource=\"http://purl.org/dc/dcmitype/StillImage\"/>\r\n    <dc:date>2021-04-28T18:59:54.321752</dc:date>\r\n    <dc:format>image/svg+xml</dc:format>\r\n    <dc:creator>\r\n     <cc:Agent>\r\n      <dc:title>Matplotlib v3.4.1, https://matplotlib.org/</dc:title>\r\n     </cc:Agent>\r\n    </dc:creator>\r\n   </cc:Work>\r\n  </rdf:RDF>\r\n </metadata>\r\n <defs>\r\n  <style type=\"text/css\">*{stroke-linecap:butt;stroke-linejoin:round;}</style>\r\n </defs>\r\n <g id=\"figure_1\">\r\n  <g id=\"patch_1\">\r\n   <path d=\"M 0 284.4025 \r\nL 376.2 284.4025 \r\nL 376.2 0 \r\nL 0 0 \r\nz\r\n\" style=\"fill:none;\"/>\r\n  </g>\r\n  <g id=\"axes_1\">\r\n   <g id=\"patch_2\">\r\n    <path d=\"M 34.2 240.2025 \r\nL 369 240.2025 \r\nL 369 22.7625 \r\nL 34.2 22.7625 \r\nz\r\n\" style=\"fill:#ffffff;\"/>\r\n   </g>\r\n   <g id=\"patch_3\">\r\n    <path clip-path=\"url(#p40695d1635)\" d=\"M 62.1 240.2025 \r\nL 117.9 240.2025 \r\nL 117.9 33.116786 \r\nL 62.1 33.116786 \r\nz\r\n\" style=\"fill:#1f77b4;\"/>\r\n   </g>\r\n   <g id=\"patch_4\">\r\n    <path clip-path=\"url(#p40695d1635)\" d=\"M 173.7 240.2025 \r\nL 229.5 240.2025 \r\nL 229.5 33.116786 \r\nL 173.7 33.116786 \r\nz\r\n\" style=\"fill:#1f77b4;\"/>\r\n   </g>\r\n   <g id=\"patch_5\">\r\n    <path clip-path=\"url(#p40695d1635)\" d=\"M 285.3 240.2025 \r\nL 341.1 240.2025 \r\nL 341.1 33.116786 \r\nL 285.3 33.116786 \r\nz\r\n\" style=\"fill:#1f77b4;\"/>\r\n   </g>\r\n   <g id=\"matplotlib.axis_1\">\r\n    <g id=\"xtick_1\">\r\n     <g id=\"line2d_1\">\r\n      <defs>\r\n       <path d=\"M 0 0 \r\nL 0 3.5 \r\n\" id=\"m5adff347e9\" style=\"stroke:#000000;stroke-width:0.8;\"/>\r\n      </defs>\r\n      <g>\r\n       <use style=\"stroke:#000000;stroke-width:0.8;\" x=\"90\" xlink:href=\"#m5adff347e9\" y=\"240.2025\"/>\r\n      </g>\r\n     </g>\r\n     <g id=\"text_1\">\r\n      <!-- 港澳台 -->\r\n      <g transform=\"translate(93.339844 277.2025)rotate(-90)scale(0.1 -0.1)\">\r\n       <defs>\r\n        <path d=\"M 3225 3975 \r\nL 3225 3075 \r\nL 4225 3075 \r\nL 4225 3975 \r\nL 3225 3975 \r\nz\r\nM 3025 1900 \r\nL 3025 1050 \r\nL 4350 1050 \r\nL 4350 1900 \r\nL 3025 1900 \r\nz\r\nM 4650 1825 \r\nQ 4650 1025 4675 800 \r\nL 4350 675 \r\nL 4350 900 \r\nL 3025 900 \r\nL 3025 200 \r\nQ 3025 -75 3275 -75 \r\nL 5175 -75 \r\nQ 5375 -50 5375 1000 \r\nL 5475 1000 \r\nQ 5500 500 5562 287 \r\nQ 5625 75 5800 0 \r\nQ 5650 -375 5125 -375 \r\nL 3225 -375 \r\nQ 2700 -375 2700 125 \r\nL 2700 1875 \r\nQ 2125 1225 1425 875 \r\nL 1400 975 \r\nQ 2525 1825 3000 2925 \r\nL 2550 2925 \r\nQ 2225 2925 1950 2850 \r\nL 1725 3075 \r\nL 2900 3075 \r\nL 2900 3975 \r\nQ 2600 3975 2325 3900 \r\nL 2100 4125 \r\nL 2900 4125 \r\nQ 2900 4900 2875 5250 \r\nL 3400 5000 \r\nL 3225 4825 \r\nL 3225 4125 \r\nL 4225 4125 \r\nQ 4225 4950 4200 5250 \r\nL 4725 5025 \r\nL 4550 4825 \r\nL 4550 4125 \r\nL 5025 4125 \r\nL 5300 4400 \r\nL 5700 3975 \r\nL 4550 3975 \r\nL 4550 3075 \r\nL 5475 3075 \r\nL 5750 3350 \r\nL 6150 2925 \r\nL 4350 2925 \r\nQ 4975 1925 6150 1700 \r\nL 6150 1625 \r\nQ 5825 1575 5725 1325 \r\nQ 4725 1850 4225 2925 \r\nL 3400 2925 \r\nQ 3200 2525 2900 2125 \r\nL 3025 2050 \r\nL 4300 2050 \r\nL 4525 2275 \r\nL 4825 1975 \r\nL 4650 1825 \r\nz\r\nM 1875 3950 \r\nQ 1275 1475 1200 1175 \r\nQ 1100 850 1112 400 \r\nQ 1125 -50 1150 -225 \r\nQ 1150 -325 1025 -325 \r\nQ 925 -325 775 -275 \r\nQ 625 -225 625 -50 \r\nQ 625 75 700 325 \r\nQ 775 575 775 725 \r\nQ 775 900 662 1000 \r\nQ 550 1100 225 1200 \r\nL 225 1300 \r\nQ 625 1250 737 1262 \r\nQ 850 1275 987 1487 \r\nQ 1125 1700 1775 3975 \r\nL 1875 3950 \r\nz\r\nM 300 3775 \r\nQ 1100 3400 1100 3112 \r\nQ 1100 2825 962 2725 \r\nQ 825 2625 725 2975 \r\nQ 600 3300 250 3700 \r\nL 300 3775 \r\nz\r\nM 850 5100 \r\nQ 1550 4750 1612 4575 \r\nQ 1675 4400 1675 4325 \r\nQ 1675 4200 1587 4100 \r\nQ 1500 4000 1450 4000 \r\nQ 1375 4000 1300 4250 \r\nQ 1175 4575 800 5025 \r\nL 850 5100 \r\nz\r\n\" id=\"SimSun-6e2f\" transform=\"scale(0.015625)\"/>\r\n        <path d=\"M 2175 1400 \r\nQ 2200 2200 2200 3050 \r\nQ 2200 3900 2175 4650 \r\nL 2575 4450 \r\nL 3200 4450 \r\nQ 3325 4800 3425 5275 \r\nL 3875 5025 \r\nQ 3625 4875 3325 4450 \r\nL 5075 4450 \r\nL 5300 4675 \r\nL 5625 4350 \r\nL 5425 4200 \r\nQ 5425 2300 5450 1675 \r\nL 5100 1525 \r\nL 5100 4300 \r\nL 2525 4300 \r\nL 2525 1550 \r\nL 2175 1400 \r\nz\r\nM 2825 3950 \r\nQ 3250 3750 3337 3637 \r\nQ 3425 3525 3425 3425 \r\nQ 3425 3325 3350 3225 \r\nQ 3275 3125 3250 3125 \r\nQ 3175 3125 3100 3350 \r\nQ 3000 3650 2775 3900 \r\nL 2825 3950 \r\nz\r\nM 3625 3025 \r\nQ 3625 3950 3600 4250 \r\nL 4100 4000 \r\nL 3925 3850 \r\nL 3925 3025 \r\nL 4425 3025 \r\nL 4650 3250 \r\nL 5000 2875 \r\nL 3925 2875 \r\nL 3925 2750 \r\nQ 4500 2550 4650 2425 \r\nQ 4800 2300 4800 2150 \r\nQ 4800 2075 4750 1975 \r\nQ 4700 1875 4675 1875 \r\nQ 4625 1875 4550 2000 \r\nQ 4400 2200 4275 2337 \r\nQ 4150 2475 3925 2625 \r\nQ 3925 2050 3950 1900 \r\nL 3600 1775 \r\nQ 3625 2075 3625 2575 \r\nQ 3300 2075 2700 1675 \r\nL 2650 1750 \r\nQ 3225 2375 3450 2875 \r\nQ 3125 2875 2850 2800 \r\nL 2625 3025 \r\nL 3625 3025 \r\nz\r\nM 4050 3125 \r\nQ 4350 3700 4425 4025 \r\nL 4800 3750 \r\nQ 4650 3675 4462 3462 \r\nQ 4275 3250 4125 3075 \r\nL 4050 3125 \r\nz\r\nM 4025 1550 \r\nL 3875 1425 \r\nL 3825 1225 \r\nL 5350 1225 \r\nL 5650 1525 \r\nL 6075 1075 \r\nL 4075 1075 \r\nQ 4725 75 6050 -125 \r\nL 6050 -200 \r\nQ 5725 -250 5600 -500 \r\nQ 4450 -25 3950 1075 \r\nL 3800 1075 \r\nQ 3325 -400 1525 -650 \r\nL 1525 -550 \r\nQ 2975 -175 3450 1075 \r\nL 2375 1075 \r\nQ 2050 1075 1775 1000 \r\nL 1550 1225 \r\nL 3475 1225 \r\nQ 3525 1450 3525 1750 \r\nL 4025 1550 \r\nz\r\nM 2075 3850 \r\nQ 1400 1425 1325 1125 \r\nQ 1225 800 1237 350 \r\nQ 1250 -100 1275 -275 \r\nQ 1275 -375 1150 -375 \r\nQ 1050 -375 900 -325 \r\nQ 750 -275 750 -100 \r\nQ 750 25 825 275 \r\nQ 900 525 900 675 \r\nQ 900 850 787 950 \r\nQ 675 1050 300 1150 \r\nL 300 1250 \r\nQ 750 1200 862 1212 \r\nQ 975 1225 1112 1437 \r\nQ 1250 1650 1975 3875 \r\nL 2075 3850 \r\nz\r\nM 325 3525 \r\nQ 1150 3125 1187 2837 \r\nQ 1225 2550 1137 2475 \r\nQ 1050 2400 1000 2400 \r\nQ 900 2400 800 2700 \r\nQ 650 3075 275 3450 \r\nL 325 3525 \r\nz\r\nM 900 4975 \r\nQ 1600 4600 1662 4437 \r\nQ 1725 4275 1725 4225 \r\nQ 1725 4100 1637 4000 \r\nQ 1550 3900 1500 3900 \r\nQ 1425 3900 1350 4150 \r\nQ 1225 4500 850 4900 \r\nL 900 4975 \r\nz\r\n\" id=\"SimSun-6fb3\" transform=\"scale(0.015625)\"/>\r\n        <path d=\"M 1850 1700 \r\nL 1850 50 \r\nL 4525 50 \r\nL 4525 1700 \r\nL 1850 1700 \r\nz\r\nM 1325 2925 \r\nL 4950 3025 \r\nQ 4675 3375 3975 3975 \r\nL 4050 4050 \r\nQ 5000 3525 5350 3275 \r\nQ 5700 3025 5700 2775 \r\nQ 5700 2700 5625 2525 \r\nQ 5550 2350 5500 2350 \r\nQ 5425 2350 5375 2450 \r\nQ 5225 2675 5075 2875 \r\nQ 4025 2850 2750 2725 \r\nQ 1475 2600 1100 2350 \r\nL 750 2975 \r\nQ 975 3000 1300 3262 \r\nQ 1625 3525 2175 4187 \r\nQ 2725 4850 2900 5250 \r\nL 3475 4825 \r\nQ 3200 4775 3000 4575 \r\nQ 2775 4350 1325 2925 \r\nz\r\nM 1475 -575 \r\nQ 1500 -50 1500 712 \r\nQ 1500 1475 1475 2100 \r\nL 1875 1850 \r\nL 4475 1850 \r\nL 4650 2100 \r\nL 5100 1825 \r\nL 4875 1625 \r\nL 4875 350 \r\nQ 4875 75 4900 -350 \r\nL 4525 -525 \r\nL 4525 -100 \r\nL 1850 -100 \r\nL 1850 -400 \r\nL 1475 -575 \r\nz\r\n\" id=\"SimSun-53f0\" transform=\"scale(0.015625)\"/>\r\n       </defs>\r\n       <use xlink:href=\"#SimSun-6e2f\"/>\r\n       <use x=\"100\" xlink:href=\"#SimSun-6fb3\"/>\r\n       <use x=\"200\" xlink:href=\"#SimSun-53f0\"/>\r\n      </g>\r\n     </g>\r\n    </g>\r\n    <g id=\"xtick_2\">\r\n     <g id=\"line2d_2\">\r\n      <g>\r\n       <use style=\"stroke:#000000;stroke-width:0.8;\" x=\"201.6\" xlink:href=\"#m5adff347e9\" y=\"240.2025\"/>\r\n      </g>\r\n     </g>\r\n     <g id=\"text_2\">\r\n      <!-- 国际 -->\r\n      <g transform=\"translate(204.783594 267.2025)rotate(-90)scale(0.1 -0.1)\">\r\n       <defs>\r\n        <path d=\"M 1550 4150 \r\nL 4250 4150 \r\nL 4550 4450 \r\nL 5000 4000 \r\nL 3350 4000 \r\nL 3350 2825 \r\nL 4025 2825 \r\nL 4325 3125 \r\nL 4775 2675 \r\nL 3350 2675 \r\nL 3350 1025 \r\nL 4200 1025 \r\nL 4550 1375 \r\nL 5050 875 \r\nL 2225 875 \r\nQ 1900 875 1625 800 \r\nL 1400 1025 \r\nL 3000 1025 \r\nL 3000 2675 \r\nL 2325 2675 \r\nL 1975 2600 \r\nL 1750 2825 \r\nL 3000 2825 \r\nL 3000 4000 \r\nL 2125 4000 \r\nL 1775 3925 \r\nL 1550 4150 \r\nz\r\nM 3625 2475 \r\nQ 4175 2225 4337 2075 \r\nQ 4500 1925 4500 1775 \r\nQ 4500 1650 4425 1512 \r\nQ 4350 1375 4300 1375 \r\nQ 4225 1375 4150 1600 \r\nQ 4025 1925 3550 2400 \r\nL 3625 2475 \r\nz\r\nM 875 -550 \r\nQ 900 0 900 525 \r\nL 900 4075 \r\nQ 900 4550 875 5175 \r\nL 1250 4950 \r\nL 5150 4950 \r\nL 5350 5175 \r\nL 5750 4850 \r\nL 5525 4700 \r\nL 5525 750 \r\nQ 5525 250 5550 -275 \r\nL 5175 -425 \r\nL 5175 75 \r\nL 1250 75 \r\nL 1250 -375 \r\nL 875 -550 \r\nz\r\nM 1250 4800 \r\nL 1250 225 \r\nL 5175 225 \r\nL 5175 4800 \r\nL 1250 4800 \r\nz\r\n\" id=\"SimSun-56fd\" transform=\"scale(0.015625)\"/>\r\n        <path d=\"M 4750 2300 \r\nQ 5600 1475 5762 1187 \r\nQ 5925 900 5925 700 \r\nQ 5925 575 5850 450 \r\nQ 5775 325 5750 325 \r\nQ 5650 325 5550 625 \r\nQ 5400 1050 5200 1412 \r\nQ 5000 1775 4675 2250 \r\nL 4750 2300 \r\nz\r\nM 2750 4725 \r\nL 5000 4725 \r\nL 5275 5000 \r\nL 5675 4575 \r\nL 3450 4575 \r\nQ 3250 4575 2975 4500 \r\nL 2750 4725 \r\nz\r\nM 2275 3200 \r\nL 5400 3200 \r\nL 5700 3500 \r\nL 6125 3050 \r\nL 4325 3050 \r\nL 4325 175 \r\nQ 4325 -50 4225 -212 \r\nQ 4125 -375 3700 -525 \r\nQ 3650 -175 2975 50 \r\nL 2975 150 \r\nQ 3675 25 3825 37 \r\nQ 3975 50 3975 275 \r\nL 3975 3050 \r\nL 3100 3050 \r\nQ 2775 3050 2500 2975 \r\nL 2275 3200 \r\nz\r\nM 3625 2125 \r\nL 3400 1975 \r\nQ 2675 600 1900 50 \r\nL 1850 125 \r\nQ 2375 750 2687 1400 \r\nQ 3000 2050 3100 2450 \r\nL 3625 2125 \r\nz\r\nM 700 -550 \r\nQ 725 700 725 2587 \r\nQ 725 4475 700 5050 \r\nL 1050 4825 \r\nL 1950 4825 \r\nL 2175 5050 \r\nL 2525 4700 \r\nL 2300 4550 \r\nL 1600 3200 \r\nQ 2050 2750 2212 2475 \r\nQ 2375 2200 2387 1912 \r\nQ 2400 1625 2275 1375 \r\nQ 2150 1125 1625 950 \r\nQ 1550 1300 1050 1475 \r\nL 1050 -375 \r\nL 700 -550 \r\nz\r\nM 1475 3200 \r\nL 1975 4675 \r\nL 1050 4675 \r\nL 1050 1575 \r\nQ 1675 1425 1862 1475 \r\nQ 2050 1525 2050 1962 \r\nQ 2050 2400 1475 3200 \r\nz\r\n\" id=\"SimSun-9645\" transform=\"scale(0.015625)\"/>\r\n       </defs>\r\n       <use xlink:href=\"#SimSun-56fd\"/>\r\n       <use x=\"100\" xlink:href=\"#SimSun-9645\"/>\r\n      </g>\r\n     </g>\r\n    </g>\r\n    <g id=\"xtick_3\">\r\n     <g id=\"line2d_3\">\r\n      <g>\r\n       <use style=\"stroke:#000000;stroke-width:0.8;\" x=\"313.2\" xlink:href=\"#m5adff347e9\" y=\"240.2025\"/>\r\n      </g>\r\n     </g>\r\n     <g id=\"text_3\">\r\n      <!-- 国内 -->\r\n      <g transform=\"translate(316.520312 267.2025)rotate(-90)scale(0.1 -0.1)\">\r\n       <defs>\r\n        <path d=\"M 1400 3625 \r\nL 1400 975 \r\nQ 2075 1350 2500 2025 \r\nQ 2925 2700 2975 3625 \r\nL 1400 3625 \r\nz\r\nM 1025 -650 \r\nQ 1050 0 1050 425 \r\nL 1050 2850 \r\nQ 1050 3675 1025 4025 \r\nL 1400 3775 \r\nL 2975 3775 \r\nQ 3000 4475 2975 5250 \r\nL 3625 4950 \r\nL 3375 4775 \r\nQ 3375 4275 3350 3775 \r\nL 4875 3775 \r\nL 5100 4050 \r\nL 5525 3725 \r\nL 5300 3550 \r\nL 5300 200 \r\nQ 5325 -375 4725 -600 \r\nQ 4700 -200 3825 -25 \r\nL 3825 75 \r\nQ 4500 25 4737 25 \r\nQ 4975 25 4950 475 \r\nL 4950 3625 \r\nL 3350 3625 \r\nQ 3300 3100 3200 2700 \r\nQ 4525 1950 4562 1750 \r\nQ 4600 1550 4600 1425 \r\nQ 4600 1225 4525 1112 \r\nQ 4450 1000 4425 1000 \r\nQ 4350 1000 4275 1225 \r\nQ 4125 1550 3812 1912 \r\nQ 3500 2275 3150 2575 \r\nQ 2900 1950 2425 1512 \r\nQ 1950 1075 1400 850 \r\nL 1400 -450 \r\nL 1025 -650 \r\nz\r\n\" id=\"SimSun-5185\" transform=\"scale(0.015625)\"/>\r\n       </defs>\r\n       <use xlink:href=\"#SimSun-56fd\"/>\r\n       <use x=\"100\" xlink:href=\"#SimSun-5185\"/>\r\n      </g>\r\n     </g>\r\n    </g>\r\n   </g>\r\n   <g id=\"matplotlib.axis_2\">\r\n    <g id=\"ytick_1\">\r\n     <g id=\"line2d_4\">\r\n      <defs>\r\n       <path d=\"M 0 0 \r\nL -3.5 0 \r\n\" id=\"m1b2d19bc21\" style=\"stroke:#000000;stroke-width:0.8;\"/>\r\n      </defs>\r\n      <g>\r\n       <use style=\"stroke:#000000;stroke-width:0.8;\" x=\"34.2\" xlink:href=\"#m1b2d19bc21\" y=\"240.2025\"/>\r\n      </g>\r\n     </g>\r\n     <g id=\"text_4\">\r\n      <!-- 0.00 -->\r\n      <g transform=\"translate(7.2 243.776719)scale(0.1 -0.1)\">\r\n       <defs>\r\n        <path d=\"M 1600 4225 \r\nQ 1250 4225 1012 3687 \r\nQ 775 3150 775 2250 \r\nQ 775 1300 1012 775 \r\nQ 1250 250 1600 250 \r\nQ 1975 250 2187 775 \r\nQ 2400 1300 2400 2250 \r\nQ 2400 3150 2200 3687 \r\nQ 2000 4225 1600 4225 \r\nz\r\nM 1600 50 \r\nQ 1050 50 675 625 \r\nQ 300 1200 300 2250 \r\nQ 300 3225 662 3825 \r\nQ 1025 4425 1600 4425 \r\nQ 2150 4425 2512 3850 \r\nQ 2875 3275 2875 2250 \r\nQ 2875 1225 2512 637 \r\nQ 2150 50 1600 50 \r\nz\r\n\" id=\"SimSun-30\" transform=\"scale(0.015625)\"/>\r\n        <path d=\"M 800 25 \r\nQ 650 25 537 125 \r\nQ 425 225 425 400 \r\nQ 425 575 537 675 \r\nQ 650 775 800 775 \r\nQ 950 775 1062 662 \r\nQ 1175 550 1175 400 \r\nQ 1175 225 1062 125 \r\nQ 950 25 800 25 \r\nz\r\n\" id=\"SimSun-2e\" transform=\"scale(0.015625)\"/>\r\n       </defs>\r\n       <use xlink:href=\"#SimSun-30\"/>\r\n       <use x=\"50\" xlink:href=\"#SimSun-2e\"/>\r\n       <use x=\"100\" xlink:href=\"#SimSun-30\"/>\r\n       <use x=\"150\" xlink:href=\"#SimSun-30\"/>\r\n      </g>\r\n     </g>\r\n    </g>\r\n    <g id=\"ytick_2\">\r\n     <g id=\"line2d_5\">\r\n      <g>\r\n       <use style=\"stroke:#000000;stroke-width:0.8;\" x=\"34.2\" xlink:href=\"#m1b2d19bc21\" y=\"209.139643\"/>\r\n      </g>\r\n     </g>\r\n     <g id=\"text_5\">\r\n      <!-- 0.05 -->\r\n      <g transform=\"translate(7.2 212.713862)scale(0.1 -0.1)\">\r\n       <defs>\r\n        <path d=\"M 1725 2850 \r\nQ 2200 2850 2500 2487 \r\nQ 2800 2125 2800 1525 \r\nQ 2800 850 2487 450 \r\nQ 2175 50 1525 50 \r\nQ 1075 50 725 312 \r\nQ 375 575 375 950 \r\nQ 375 1100 462 1212 \r\nQ 550 1325 700 1325 \r\nQ 850 1325 900 1225 \r\nQ 950 1125 950 1050 \r\nQ 950 900 875 825 \r\nQ 800 725 800 625 \r\nQ 800 425 1037 325 \r\nQ 1275 225 1550 225 \r\nQ 1950 225 2162 550 \r\nQ 2375 875 2375 1475 \r\nQ 2375 1975 2187 2287 \r\nQ 2000 2600 1625 2600 \r\nQ 1350 2600 1150 2500 \r\nQ 950 2400 775 2075 \r\nL 550 2100 \r\nL 675 4375 \r\nL 2725 4375 \r\nL 2650 4000 \r\nL 850 4000 \r\nL 750 2350 \r\nQ 1000 2700 1237 2775 \r\nQ 1475 2850 1725 2850 \r\nz\r\n\" id=\"SimSun-35\" transform=\"scale(0.015625)\"/>\r\n       </defs>\r\n       <use xlink:href=\"#SimSun-30\"/>\r\n       <use x=\"50\" xlink:href=\"#SimSun-2e\"/>\r\n       <use x=\"100\" xlink:href=\"#SimSun-30\"/>\r\n       <use x=\"150\" xlink:href=\"#SimSun-35\"/>\r\n      </g>\r\n     </g>\r\n    </g>\r\n    <g id=\"ytick_3\">\r\n     <g id=\"line2d_6\">\r\n      <g>\r\n       <use style=\"stroke:#000000;stroke-width:0.8;\" x=\"34.2\" xlink:href=\"#m1b2d19bc21\" y=\"178.076786\"/>\r\n      </g>\r\n     </g>\r\n     <g id=\"text_6\">\r\n      <!-- 0.10 -->\r\n      <g transform=\"translate(7.2 181.651004)scale(0.1 -0.1)\">\r\n       <defs>\r\n        <path d=\"M 1825 4450 \r\nL 1825 650 \r\nQ 1825 450 1950 350 \r\nQ 2075 250 2300 250 \r\nL 2550 250 \r\nL 2550 100 \r\nL 725 100 \r\nL 725 250 \r\nL 950 250 \r\nQ 1200 250 1312 350 \r\nQ 1425 450 1425 650 \r\nL 1425 3675 \r\nQ 1425 3775 1362 3837 \r\nQ 1300 3900 1175 3900 \r\nL 725 3900 \r\nL 725 4050 \r\nL 950 4050 \r\nQ 1250 4050 1437 4150 \r\nQ 1625 4250 1725 4450 \r\nL 1825 4450 \r\nz\r\n\" id=\"SimSun-31\" transform=\"scale(0.015625)\"/>\r\n       </defs>\r\n       <use xlink:href=\"#SimSun-30\"/>\r\n       <use x=\"50\" xlink:href=\"#SimSun-2e\"/>\r\n       <use x=\"100\" xlink:href=\"#SimSun-31\"/>\r\n       <use x=\"150\" xlink:href=\"#SimSun-30\"/>\r\n      </g>\r\n     </g>\r\n    </g>\r\n    <g id=\"ytick_4\">\r\n     <g id=\"line2d_7\">\r\n      <g>\r\n       <use style=\"stroke:#000000;stroke-width:0.8;\" x=\"34.2\" xlink:href=\"#m1b2d19bc21\" y=\"147.013929\"/>\r\n      </g>\r\n     </g>\r\n     <g id=\"text_7\">\r\n      <!-- 0.15 -->\r\n      <g transform=\"translate(7.2 150.588147)scale(0.1 -0.1)\">\r\n       <use xlink:href=\"#SimSun-30\"/>\r\n       <use x=\"50\" xlink:href=\"#SimSun-2e\"/>\r\n       <use x=\"100\" xlink:href=\"#SimSun-31\"/>\r\n       <use x=\"150\" xlink:href=\"#SimSun-35\"/>\r\n      </g>\r\n     </g>\r\n    </g>\r\n    <g id=\"ytick_5\">\r\n     <g id=\"line2d_8\">\r\n      <g>\r\n       <use style=\"stroke:#000000;stroke-width:0.8;\" x=\"34.2\" xlink:href=\"#m1b2d19bc21\" y=\"115.951071\"/>\r\n      </g>\r\n     </g>\r\n     <g id=\"text_8\">\r\n      <!-- 0.20 -->\r\n      <g transform=\"translate(7.2 119.52529)scale(0.1 -0.1)\">\r\n       <defs>\r\n        <path d=\"M 2325 3325 \r\nQ 2325 3775 2125 4012 \r\nQ 1925 4250 1525 4250 \r\nQ 1225 4250 1012 4087 \r\nQ 800 3925 800 3675 \r\nQ 800 3525 900 3425 \r\nQ 975 3325 975 3225 \r\nQ 975 3100 912 3037 \r\nQ 850 2975 725 2975 \r\nQ 575 2975 487 3062 \r\nQ 400 3150 400 3350 \r\nQ 400 3875 775 4150 \r\nQ 1150 4425 1575 4425 \r\nQ 2175 4425 2462 4125 \r\nQ 2750 3825 2750 3375 \r\nQ 2750 3075 2612 2775 \r\nQ 2475 2475 2175 2200 \r\nQ 1450 1500 1062 1062 \r\nQ 675 625 600 475 \r\nL 2075 475 \r\nQ 2300 475 2450 650 \r\nQ 2600 825 2650 1175 \r\nL 2800 1175 \r\nL 2650 100 \r\nL 325 100 \r\nL 325 425 \r\nQ 450 650 737 1000 \r\nQ 1025 1350 1500 1825 \r\nQ 1925 2250 2125 2625 \r\nQ 2325 3000 2325 3325 \r\nz\r\n\" id=\"SimSun-32\" transform=\"scale(0.015625)\"/>\r\n       </defs>\r\n       <use xlink:href=\"#SimSun-30\"/>\r\n       <use x=\"50\" xlink:href=\"#SimSun-2e\"/>\r\n       <use x=\"100\" xlink:href=\"#SimSun-32\"/>\r\n       <use x=\"150\" xlink:href=\"#SimSun-30\"/>\r\n      </g>\r\n     </g>\r\n    </g>\r\n    <g id=\"ytick_6\">\r\n     <g id=\"line2d_9\">\r\n      <g>\r\n       <use style=\"stroke:#000000;stroke-width:0.8;\" x=\"34.2\" xlink:href=\"#m1b2d19bc21\" y=\"84.888214\"/>\r\n      </g>\r\n     </g>\r\n     <g id=\"text_9\">\r\n      <!-- 0.25 -->\r\n      <g transform=\"translate(7.2 88.462433)scale(0.1 -0.1)\">\r\n       <use xlink:href=\"#SimSun-30\"/>\r\n       <use x=\"50\" xlink:href=\"#SimSun-2e\"/>\r\n       <use x=\"100\" xlink:href=\"#SimSun-32\"/>\r\n       <use x=\"150\" xlink:href=\"#SimSun-35\"/>\r\n      </g>\r\n     </g>\r\n    </g>\r\n    <g id=\"ytick_7\">\r\n     <g id=\"line2d_10\">\r\n      <g>\r\n       <use style=\"stroke:#000000;stroke-width:0.8;\" x=\"34.2\" xlink:href=\"#m1b2d19bc21\" y=\"53.825357\"/>\r\n      </g>\r\n     </g>\r\n     <g id=\"text_10\">\r\n      <!-- 0.30 -->\r\n      <g transform=\"translate(7.2 57.399576)scale(0.1 -0.1)\">\r\n       <defs>\r\n        <path d=\"M 2800 1250 \r\nQ 2800 775 2450 412 \r\nQ 2100 50 1475 50 \r\nQ 1025 50 700 300 \r\nQ 375 550 375 875 \r\nQ 375 1025 475 1137 \r\nQ 575 1250 675 1250 \r\nQ 825 1250 887 1137 \r\nQ 950 1025 950 950 \r\nQ 950 825 900 750 \r\nQ 850 650 850 575 \r\nQ 850 425 1037 325 \r\nQ 1225 225 1450 225 \r\nQ 1900 225 2125 487 \r\nQ 2350 750 2350 1300 \r\nQ 2350 1750 2112 2025 \r\nQ 1875 2300 1225 2300 \r\nL 1225 2475 \r\nQ 1725 2475 1962 2712 \r\nQ 2200 2950 2200 3375 \r\nQ 2200 3725 2012 3987 \r\nQ 1825 4250 1425 4250 \r\nQ 1250 4250 1050 4162 \r\nQ 850 4075 850 3875 \r\nQ 850 3675 900 3625 \r\nQ 950 3575 950 3500 \r\nQ 950 3375 900 3300 \r\nQ 850 3225 725 3225 \r\nQ 625 3225 537 3300 \r\nQ 450 3375 450 3575 \r\nQ 450 3950 775 4187 \r\nQ 1100 4425 1525 4425 \r\nQ 2025 4425 2325 4112 \r\nQ 2625 3800 2625 3450 \r\nQ 2625 3075 2437 2812 \r\nQ 2250 2550 1850 2425 \r\nQ 2400 2225 2600 1900 \r\nQ 2800 1575 2800 1250 \r\nz\r\n\" id=\"SimSun-33\" transform=\"scale(0.015625)\"/>\r\n       </defs>\r\n       <use xlink:href=\"#SimSun-30\"/>\r\n       <use x=\"50\" xlink:href=\"#SimSun-2e\"/>\r\n       <use x=\"100\" xlink:href=\"#SimSun-33\"/>\r\n       <use x=\"150\" xlink:href=\"#SimSun-30\"/>\r\n      </g>\r\n     </g>\r\n    </g>\r\n    <g id=\"ytick_8\">\r\n     <g id=\"line2d_11\">\r\n      <g>\r\n       <use style=\"stroke:#000000;stroke-width:0.8;\" x=\"34.2\" xlink:href=\"#m1b2d19bc21\" y=\"22.7625\"/>\r\n      </g>\r\n     </g>\r\n     <g id=\"text_11\">\r\n      <!-- 0.35 -->\r\n      <g transform=\"translate(7.2 26.336719)scale(0.1 -0.1)\">\r\n       <use xlink:href=\"#SimSun-30\"/>\r\n       <use x=\"50\" xlink:href=\"#SimSun-2e\"/>\r\n       <use x=\"100\" xlink:href=\"#SimSun-33\"/>\r\n       <use x=\"150\" xlink:href=\"#SimSun-35\"/>\r\n      </g>\r\n     </g>\r\n    </g>\r\n   </g>\r\n   <g id=\"patch_6\">\r\n    <path d=\"M 34.2 240.2025 \r\nL 34.2 22.7625 \r\n\" style=\"fill:none;stroke:#000000;stroke-linecap:square;stroke-linejoin:miter;stroke-width:0.8;\"/>\r\n   </g>\r\n   <g id=\"patch_7\">\r\n    <path d=\"M 369 240.2025 \r\nL 369 22.7625 \r\n\" style=\"fill:none;stroke:#000000;stroke-linecap:square;stroke-linejoin:miter;stroke-width:0.8;\"/>\r\n   </g>\r\n   <g id=\"patch_8\">\r\n    <path d=\"M 34.2 240.2025 \r\nL 369 240.2025 \r\n\" style=\"fill:none;stroke:#000000;stroke-linecap:square;stroke-linejoin:miter;stroke-width:0.8;\"/>\r\n   </g>\r\n   <g id=\"patch_9\">\r\n    <path d=\"M 34.2 22.7625 \r\nL 369 22.7625 \r\n\" style=\"fill:none;stroke:#000000;stroke-linecap:square;stroke-linejoin:miter;stroke-width:0.8;\"/>\r\n   </g>\r\n   <g id=\"text_12\">\r\n    <!-- 市场起飞频度 -->\r\n    <g transform=\"translate(165.6 16.7625)scale(0.12 -0.12)\">\r\n     <defs>\r\n      <path d=\"M 2625 5150 \r\nL 2675 5225 \r\nQ 3175 4975 3312 4812 \r\nQ 3450 4650 3450 4550 \r\nQ 3450 4500 3387 4362 \r\nQ 3325 4225 3212 4187 \r\nQ 3100 4150 3025 4450 \r\nQ 2950 4725 2625 5150 \r\nz\r\nM 1250 -25 \r\nQ 1275 925 1275 1837 \r\nQ 1275 2750 1250 3325 \r\nL 1625 3100 \r\nL 3000 3100 \r\nL 3000 3975 \r\nL 1250 3975 \r\nQ 925 3975 650 3900 \r\nL 425 4125 \r\nL 5075 4125 \r\nL 5475 4525 \r\nL 6025 3975 \r\nL 3350 3975 \r\nL 3350 3100 \r\nL 4750 3100 \r\nL 4925 3350 \r\nL 5375 3050 \r\nL 5150 2875 \r\nL 5150 675 \r\nQ 5150 200 4575 0 \r\nQ 4575 350 3875 550 \r\nL 3875 650 \r\nQ 4300 600 4562 600 \r\nQ 4825 600 4800 900 \r\nL 4800 2950 \r\nL 3350 2950 \r\nL 3350 425 \r\nQ 3350 -25 3375 -475 \r\nL 2975 -650 \r\nQ 3000 0 3000 575 \r\nL 3000 2950 \r\nL 1625 2950 \r\nL 1625 150 \r\nL 1250 -25 \r\nz\r\n\" id=\"SimSun-5e02\" transform=\"scale(0.015625)\"/>\r\n      <path d=\"M 5375 2775 \r\nL 5625 3025 \r\nL 6000 2650 \r\nL 5775 2500 \r\nQ 5675 775 5575 300 \r\nQ 5475 -175 5237 -362 \r\nQ 5000 -550 4775 -625 \r\nQ 4675 -225 3975 0 \r\nL 4000 100 \r\nQ 4450 0 4787 -37 \r\nQ 5125 -75 5225 450 \r\nQ 5325 975 5425 2625 \r\nL 4900 2625 \r\nQ 4600 1225 3850 500 \r\nQ 3100 -225 2025 -575 \r\nL 2000 -475 \r\nQ 3000 -25 3637 725 \r\nQ 4275 1475 4500 2625 \r\nL 3950 2625 \r\nQ 3750 1975 3350 1387 \r\nQ 2950 800 1975 300 \r\nL 1925 400 \r\nQ 2525 775 2950 1350 \r\nQ 3375 1925 3550 2625 \r\nL 2975 2625 \r\nL 2750 2475 \r\nL 2475 2825 \r\nL 2750 2925 \r\nQ 3725 3750 4550 4625 \r\nL 2975 4625 \r\nL 2700 4575 \r\nL 2500 4775 \r\nL 4550 4775 \r\nL 4800 5025 \r\nL 5200 4675 \r\nL 4950 4550 \r\nQ 3975 3550 3025 2775 \r\nL 5375 2775 \r\nz\r\nM 1675 1250 \r\nL 2725 1725 \r\nL 2750 1625 \r\nQ 925 600 550 250 \r\nL 225 700 \r\nQ 625 825 1300 1100 \r\nL 1300 3250 \r\nL 1100 3250 \r\nQ 775 3250 500 3175 \r\nL 275 3400 \r\nL 1300 3400 \r\nL 1300 4225 \r\nQ 1300 4650 1275 5175 \r\nL 1900 4875 \r\nL 1675 4650 \r\nL 1675 3400 \r\nL 2050 3400 \r\nL 2325 3675 \r\nL 2750 3250 \r\nL 1675 3250 \r\nL 1675 1250 \r\nz\r\n\" id=\"SimSun-573a\" transform=\"scale(0.015625)\"/>\r\n      <path d=\"M 3650 1125 \r\nL 3650 2650 \r\nL 3625 3150 \r\nL 3975 2950 \r\nL 5225 2950 \r\nL 5225 4200 \r\nL 4325 4200 \r\nQ 4000 4200 3725 4125 \r\nL 3500 4350 \r\nL 5175 4350 \r\nL 5325 4600 \r\nL 5725 4350 \r\nL 5550 4175 \r\nQ 5550 2975 5575 2625 \r\nL 5225 2475 \r\nL 5225 2800 \r\nL 3975 2800 \r\nL 3975 1250 \r\nQ 3925 800 4300 825 \r\nL 5350 825 \r\nQ 5600 850 5625 1300 \r\nQ 5650 1750 5650 2000 \r\nL 5775 2000 \r\nQ 5775 1550 5825 1262 \r\nQ 5875 975 6100 900 \r\nQ 5900 525 5425 550 \r\nL 4200 550 \r\nQ 3625 525 3650 1125 \r\nz\r\nM 1900 4125 \r\nQ 1900 4825 1875 5250 \r\nL 2425 5000 \r\nL 2225 4800 \r\nL 2225 4125 \r\nL 2625 4125 \r\nL 2950 4425 \r\nL 3325 3975 \r\nL 2225 3975 \r\nL 2225 2950 \r\nL 2800 2950 \r\nL 3100 3250 \r\nL 3525 2800 \r\nL 2125 2800 \r\nL 2475 2600 \r\nL 2275 2425 \r\nL 2275 1600 \r\nL 2700 1600 \r\nL 3025 1900 \r\nL 3425 1450 \r\nL 2275 1450 \r\nL 2275 225 \r\nQ 2975 -75 4087 -112 \r\nQ 5200 -150 6125 -50 \r\nL 6125 -150 \r\nQ 5675 -225 5650 -550 \r\nQ 4925 -575 3987 -500 \r\nQ 3050 -425 2312 -125 \r\nQ 1575 175 1125 875 \r\nQ 825 -75 350 -625 \r\nL 275 -575 \r\nQ 725 225 837 1112 \r\nQ 950 2000 950 2300 \r\nL 1500 2025 \r\nQ 1375 1975 1312 1762 \r\nQ 1250 1550 1175 1025 \r\nQ 1575 550 1950 350 \r\nL 1950 2800 \r\nL 1075 2800 \r\nQ 875 2800 600 2725 \r\nL 375 2950 \r\nL 1900 2950 \r\nL 1900 3975 \r\nL 1375 3975 \r\nQ 1175 3975 900 3900 \r\nL 675 4125 \r\nL 1900 4125 \r\nz\r\n\" id=\"SimSun-8d77\" transform=\"scale(0.015625)\"/>\r\n      <path d=\"M 5900 -375 \r\nQ 6025 -525 5450 -475 \r\nQ 4875 -425 4237 -12 \r\nQ 3600 400 3362 1212 \r\nQ 3125 2025 3125 2825 \r\nQ 3125 3625 3125 4525 \r\nL 1275 4525 \r\nQ 950 4525 675 4450 \r\nL 450 4675 \r\nL 3075 4675 \r\nL 3350 4950 \r\nL 3700 4600 \r\nL 3475 4425 \r\nL 3475 3075 \r\nL 3675 3000 \r\nQ 4375 3725 4825 4575 \r\nL 5325 4175 \r\nL 5050 4075 \r\nQ 4350 3400 3800 2950 \r\nQ 4875 2475 5012 2287 \r\nQ 5150 2100 5150 1950 \r\nQ 5150 1875 5112 1750 \r\nQ 5075 1625 5025 1625 \r\nQ 4950 1625 4750 1900 \r\nQ 4450 2300 3475 2950 \r\nQ 3475 1550 3937 837 \r\nQ 4400 125 5325 -25 \r\nL 5500 1300 \r\nL 5600 1300 \r\nQ 5600 575 5687 187 \r\nQ 5775 -200 5900 -375 \r\nz\r\n\" id=\"SimSun-98de\" transform=\"scale(0.015625)\"/>\r\n      <path d=\"M 2800 2050 \r\nL 3225 1675 \r\nL 3000 1550 \r\nQ 2400 625 1862 200 \r\nQ 1325 -225 400 -575 \r\nL 375 -500 \r\nQ 1475 100 2000 712 \r\nQ 2525 1325 2800 2050 \r\nz\r\nM 1800 2950 \r\nL 1800 4375 \r\nQ 1800 4700 1775 5250 \r\nL 2300 5025 \r\nL 2100 4850 \r\nL 2100 4075 \r\nL 2500 4075 \r\nL 2775 4350 \r\nL 3150 3925 \r\nL 2100 3925 \r\nL 2100 2950 \r\nL 2575 2950 \r\nL 2875 3225 \r\nL 3275 2800 \r\nL 1800 2800 \r\nL 2250 2550 \r\nL 2075 2425 \r\nL 2075 1150 \r\nL 1750 950 \r\nL 1750 2800 \r\nL 1150 2800 \r\nQ 825 2800 550 2725 \r\nL 325 2950 \r\nL 1000 2950 \r\nL 1000 3900 \r\nQ 1000 4200 975 4500 \r\nL 1500 4275 \r\nL 1300 4100 \r\nL 1300 2950 \r\nL 1800 2950 \r\nz\r\nM 1100 2325 \r\nL 1550 2025 \r\nQ 1375 1975 1100 1500 \r\nQ 800 1000 325 575 \r\nL 275 650 \r\nQ 825 1400 1100 2325 \r\nz\r\nM 3375 800 \r\nQ 3400 1450 3400 2312 \r\nQ 3400 3175 3375 3925 \r\nL 3725 3725 \r\nL 4200 3725 \r\nQ 4300 4425 4325 4700 \r\nL 3775 4700 \r\nQ 3450 4700 3175 4625 \r\nL 2950 4850 \r\nL 5400 4850 \r\nL 5725 5150 \r\nL 6150 4700 \r\nL 4800 4700 \r\nQ 4625 4500 4325 3725 \r\nL 5425 3725 \r\nL 5625 3950 \r\nL 6000 3650 \r\nL 5800 3500 \r\nL 5800 1975 \r\nQ 5800 1550 5825 1100 \r\nL 5475 900 \r\nL 5475 3575 \r\nL 3725 3575 \r\nL 3725 1025 \r\nL 3375 800 \r\nz\r\nM 5000 2875 \r\nL 4775 2700 \r\nQ 4775 1500 4612 987 \r\nQ 4450 475 3987 100 \r\nQ 3525 -275 2575 -575 \r\nL 2550 -500 \r\nQ 3550 -50 3937 400 \r\nQ 4325 850 4387 1587 \r\nQ 4450 2325 4425 3150 \r\nL 5000 2875 \r\nz\r\nM 4725 875 \r\nQ 5700 425 5862 250 \r\nQ 6025 75 6025 -100 \r\nQ 6025 -225 5975 -362 \r\nQ 5925 -500 5875 -500 \r\nQ 5825 -500 5775 -400 \r\nQ 5650 -175 5437 87 \r\nQ 5225 350 4675 800 \r\nL 4725 875 \r\nz\r\n\" id=\"SimSun-9891\" transform=\"scale(0.015625)\"/>\r\n      <path d=\"M 2550 2025 \r\nQ 2575 2525 2575 3175 \r\nL 1925 3175 \r\nL 1625 3125 \r\nL 1425 3325 \r\nL 2575 3325 \r\nQ 2575 3700 2550 4150 \r\nL 3100 3875 \r\nL 2900 3750 \r\nL 2900 3325 \r\nL 4300 3325 \r\nQ 4300 3750 4275 4125 \r\nL 4850 3875 \r\nL 4625 3725 \r\nL 4625 3325 \r\nL 5100 3325 \r\nL 5425 3650 \r\nL 5900 3175 \r\nL 4625 3175 \r\nQ 4625 2450 4650 2225 \r\nL 4300 2075 \r\nL 4300 2300 \r\nL 2900 2300 \r\nL 2900 2175 \r\nL 2550 2025 \r\nz\r\nM 4875 1500 \r\nQ 4300 775 3900 425 \r\nQ 4700 -75 6025 -125 \r\nL 6025 -225 \r\nQ 5625 -300 5550 -550 \r\nQ 4375 -325 3675 225 \r\nQ 2475 -450 1075 -625 \r\nL 1050 -525 \r\nQ 2375 -275 3450 450 \r\nQ 2975 925 2575 1625 \r\nL 2325 1625 \r\nL 2100 1575 \r\nL 1900 1775 \r\nL 4525 1775 \r\nL 4750 2000 \r\nL 5125 1625 \r\nL 4875 1500 \r\nz\r\nM 2700 1625 \r\nQ 3175 975 3650 625 \r\nQ 4150 1100 4500 1625 \r\nL 2700 1625 \r\nz\r\nM 2900 3175 \r\nL 2900 2450 \r\nL 4300 2450 \r\nL 4300 3175 \r\nL 2900 3175 \r\nz\r\nM 975 4650 \r\nL 1400 4400 \r\nL 3375 4400 \r\nQ 3350 4550 3262 4725 \r\nQ 3175 4900 2900 5225 \r\nL 2975 5275 \r\nQ 3550 5025 3637 4887 \r\nQ 3725 4750 3725 4725 \r\nQ 3725 4575 3525 4400 \r\nL 5150 4400 \r\nL 5500 4750 \r\nL 6000 4250 \r\nL 1375 4250 \r\nQ 1400 2750 1287 1912 \r\nQ 1175 1075 925 475 \r\nQ 675 -125 300 -625 \r\nL 225 -575 \r\nQ 725 300 862 1250 \r\nQ 1000 2200 1012 3187 \r\nQ 1025 4175 975 4650 \r\nz\r\n\" id=\"SimSun-5ea6\" transform=\"scale(0.015625)\"/>\r\n     </defs>\r\n     <use xlink:href=\"#SimSun-5e02\"/>\r\n     <use x=\"100\" xlink:href=\"#SimSun-573a\"/>\r\n     <use x=\"200\" xlink:href=\"#SimSun-8d77\"/>\r\n     <use x=\"300\" xlink:href=\"#SimSun-98de\"/>\r\n     <use x=\"400\" xlink:href=\"#SimSun-9891\"/>\r\n     <use x=\"500\" xlink:href=\"#SimSun-5ea6\"/>\r\n    </g>\r\n   </g>\r\n  </g>\r\n </g>\r\n <defs>\r\n  <clipPath id=\"p40695d1635\">\r\n   <rect height=\"217.44\" width=\"334.8\" x=\"34.2\" y=\"22.7625\"/>\r\n  </clipPath>\r\n </defs>\r\n</svg>\r\n",
      "image/png": "[encoded data removed]"
     },
     "metadata": {
      "needs_background": "light"
     }
    }
   ],
   "source": [
    "#profession2.plot(kind = 'bar', figsize = (13, 6), title = '市场起飞频度')\n",
    "profession2.plot(kind = 'bar', title = '市场起飞频度')"
   ]
  },
  {
   "cell_type": "code",
   "execution_count": 30,
   "metadata": {},
   "outputs": [
    {
     "output_type": "error",
     "ename": "AttributeError",
     "evalue": "'Series' object has no attribute 'savefig'",
     "traceback": [
      "\u001b[1;31m---------------------------------------------------------------------------\u001b[0m",
      "\u001b[1;31mAttributeError\u001b[0m                            Traceback (most recent call last)",
      "\u001b[1;32m<ipython-input-30-65ddb42b54be>\u001b[0m in \u001b[0;36m<module>\u001b[1;34m\u001b[0m\n\u001b[1;32m----> 1\u001b[1;33m \u001b[0mprofession2\u001b[0m\u001b[1;33m.\u001b[0m\u001b[0msavefig\u001b[0m\u001b[1;33m(\u001b[0m\u001b[1;34m'样例\\市场起飞频度.png'\u001b[0m\u001b[1;33m)\u001b[0m\u001b[1;33m\u001b[0m\u001b[1;33m\u001b[0m\u001b[0m\n\u001b[0m",
      "\u001b[1;32mC:\\Program Files\\Python37\\lib\\site-packages\\pandas\\core\\generic.py\u001b[0m in \u001b[0;36m__getattr__\u001b[1;34m(self, name)\u001b[0m\n\u001b[0;32m   5272\u001b[0m             \u001b[1;32mif\u001b[0m \u001b[0mself\u001b[0m\u001b[1;33m.\u001b[0m\u001b[0m_info_axis\u001b[0m\u001b[1;33m.\u001b[0m\u001b[0m_can_hold_identifiers_and_holds_name\u001b[0m\u001b[1;33m(\u001b[0m\u001b[0mname\u001b[0m\u001b[1;33m)\u001b[0m\u001b[1;33m:\u001b[0m\u001b[1;33m\u001b[0m\u001b[1;33m\u001b[0m\u001b[0m\n\u001b[0;32m   5273\u001b[0m                 \u001b[1;32mreturn\u001b[0m \u001b[0mself\u001b[0m\u001b[1;33m[\u001b[0m\u001b[0mname\u001b[0m\u001b[1;33m]\u001b[0m\u001b[1;33m\u001b[0m\u001b[1;33m\u001b[0m\u001b[0m\n\u001b[1;32m-> 5274\u001b[1;33m             \u001b[1;32mreturn\u001b[0m \u001b[0mobject\u001b[0m\u001b[1;33m.\u001b[0m\u001b[0m__getattribute__\u001b[0m\u001b[1;33m(\u001b[0m\u001b[0mself\u001b[0m\u001b[1;33m,\u001b[0m \u001b[0mname\u001b[0m\u001b[1;33m)\u001b[0m\u001b[1;33m\u001b[0m\u001b[1;33m\u001b[0m\u001b[0m\n\u001b[0m\u001b[0;32m   5275\u001b[0m \u001b[1;33m\u001b[0m\u001b[0m\n\u001b[0;32m   5276\u001b[0m     \u001b[1;32mdef\u001b[0m \u001b[0m__setattr__\u001b[0m\u001b[1;33m(\u001b[0m\u001b[0mself\u001b[0m\u001b[1;33m,\u001b[0m \u001b[0mname\u001b[0m\u001b[1;33m:\u001b[0m \u001b[0mstr\u001b[0m\u001b[1;33m,\u001b[0m \u001b[0mvalue\u001b[0m\u001b[1;33m)\u001b[0m \u001b[1;33m->\u001b[0m \u001b[1;32mNone\u001b[0m\u001b[1;33m:\u001b[0m\u001b[1;33m\u001b[0m\u001b[1;33m\u001b[0m\u001b[0m\n",
      "\u001b[1;31mAttributeError\u001b[0m: 'Series' object has no attribute 'savefig'"
     ]
    }
   ],
   "source": [
    "#profession2.savefig('样例\\市场起飞频度.png')"
   ]
  },
  {
   "cell_type": "code",
   "execution_count": null,
   "metadata": {},
   "outputs": [],
   "source": []
  }
 ]
}