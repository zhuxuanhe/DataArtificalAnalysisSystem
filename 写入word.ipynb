{
 "metadata": {
  "language_info": {
   "codemirror_mode": {
    "name": "ipython",
    "version": 3
   },
   "file_extension": ".py",
   "mimetype": "text/x-python",
   "name": "python",
   "nbconvert_exporter": "python",
   "pygments_lexer": "ipython3",
   "version": "3.7.1"
  },
  "orig_nbformat": 2,
  "kernelspec": {
   "name": "python371jvsc74a57bd00600588c3b5f4418cbe7b5ebc6825b479f3bc010269d8b60d75058cdd010adfe",
   "display_name": "Python 3.7.1 64-bit"
  },
  "metadata": {
   "interpreter": {
    "hash": "0600588c3b5f4418cbe7b5ebc6825b479f3bc010269d8b60d75058cdd010adfe"
   }
  }
 },
 "nbformat": 4,
 "nbformat_minor": 2,
 "cells": [
  {
   "cell_type": "code",
   "execution_count": 1,
   "metadata": {},
   "outputs": [],
   "source": [
    "from docx import Document\n",
    "from docx.shared import Pt\n",
    "from docx.shared import Inches\n",
    "from docx.oxml.ns import qn"
   ]
  },
  {
   "cell_type": "code",
   "execution_count": null,
   "metadata": {},
   "outputs": [],
   "source": []
  },
  {
   "cell_type": "code",
   "execution_count": 2,
   "metadata": {},
   "outputs": [],
   "source": [
    "# 新建空白文档\n",
    "doc1 = Document()\n",
    "\n",
    "# 新增文档标题\n",
    "doc1.add_heading('如何使用 Python 创建 Word',0)\n",
    "\n",
    "# 保存文件\n",
    "doc1.save('样例\\word1.docx')"
   ]
  },
  {
   "cell_type": "code",
   "execution_count": 4,
   "metadata": {},
   "outputs": [],
   "source": [
    "from docx import Document\n",
    "from docx.shared import Pt\n",
    "from docx.shared import Inches\n",
    "from docx.oxml.ns import qn\n",
    "from docx.shared import RGBColor\n",
    "\n",
    "# 新建空白文档\n",
    "doc1 = Document()\n",
    "\n",
    "# 新增文档标题\n",
    "doc1.add_heading('如何使用 Python 创建 Word',0)\n",
    "\n",
    "# 创建段落描述\n",
    "doc1.add_paragraph('我们平时使用 Word 用来做文章的处理，可能没想过它可以用 Python 生成，下面我们就介绍具体如何操作……')\n",
    "\n",
    "# 创建一级标题\n",
    "doc1.add_heading('安装 python-docx 库',1)\n",
    "\n",
    "# 创建段落描述\n",
    "doc1.add_paragraph('现在开始我们来介绍如何安装 python-docx 库，具体需要以下两步操作：')\n",
    "\n",
    "# 创建二级标题\n",
    "doc1.add_heading('第一步：安装 Python',2)\n",
    "\n",
    "# 创建段落，添加文档内容\n",
    "paragraph = doc1.add_paragraph('这是第一步的安装描述！')\n",
    "\n",
    "# 段落中增加文字，并设置字体字号\n",
    "run = paragraph.add_run('(注意：这里设置了字号为20)')\n",
    "run.font.size = Pt(20)\n",
    "\n",
    "# 设置英文字体\n",
    "run = doc1.add_paragraph('这里设置英文字体：').add_run('This Font is Times New Roman ')\n",
    "run.font.name = 'Times New Roman'\n",
    "\n",
    "# 设置中文字体\n",
    "run = doc1.add_paragraph('这里设置中文字体：').add_run('当前字体为黑体')\n",
    "run.font.name='黑体'\n",
    "r = run._element\n",
    "r.rPr.rFonts.set(qn('w:eastAsia'), '黑体')\n",
    "\n",
    "# 设置斜体\n",
    "run = doc1.add_paragraph('这段设置：').add_run('文字的是斜体 ')\n",
    "run.italic = True\n",
    "\n",
    "# 设置粗体\n",
    "run = doc1.add_paragraph('这段再设置：').add_run('这里设置粗体').bold = True\n",
    "\n",
    "# 设置字体带下划线\n",
    "run = doc1.add_paragraph('这段为下划线：').add_run('这里设置带下划线').underline = True\n",
    "\n",
    "# 设置字体颜色\n",
    "run = doc1.add_paragraph('这段字体为红色：').add_run('这里设置字体为红色')\n",
    "run.font.color.rgb = RGBColor(0xFF, 0x00, 0x00)\n",
    "\n",
    "# 增加引用\n",
    "doc1.add_paragraph('这里是我们引用的一段话：人生苦短，我用Python。', style='Intense Quote')\n",
    "\n",
    "# 保存文件\n",
    "doc1.save('word2.docx')"
   ]
  },
  {
   "cell_type": "code",
   "execution_count": 6,
   "metadata": {},
   "outputs": [],
   "source": [
    "from docx import Document\n",
    "from docx.shared import Pt\n",
    "from docx.shared import Inches\n",
    "from docx.oxml.ns import qn\n",
    "from docx.shared import RGBColor\n",
    "\n",
    "\n",
    "doc2 = Document()\n",
    "doc2.add_heading('2017年民航飞机调查报告',0)\n",
    "\n",
    "doc2.add_heading('市场起飞频度',1)\n",
    "doc2.add_picture('样例\\市场起飞频度.jpg', width=Inches(5.5))\n",
    "pargraph = doc2.add_paragraph('客座率从2015年的0.8375 到了2017年的0.8550')\n",
    "run = doc2.add_paragraph('客座率预计会在未来增长至').add_run('0.8770').underline = True\n",
    "doc2.add_heading('市场景气指数分析',1)\n",
    "\n",
    "doc2.add_picture('样例\\市场景气指数.jpg', width=Inches(5.5))\n",
    "\n",
    "pargraph = doc2.add_paragraph('景气指数从2015年的92.0% 到了2018年的94.0%')\n",
    "run = doc2.add_paragraph('景气指数预计会在未来增长至').add_run('95.55%').underline = True\n",
    "\n",
    "\n",
    "doc2.add_picture('样例\\起飞分布.jpg', width=Inches(5.5))\n",
    "pargraph = doc2.add_paragraph('各起飞年分布均匀', style='Intense Quote')\n",
    "doc2.save('2017年民航飞机调查报告.docx')"
   ]
  },
  {
   "cell_type": "code",
   "execution_count": null,
   "metadata": {},
   "outputs": [],
   "source": [
    "\n"
   ]
  }
 ]
}